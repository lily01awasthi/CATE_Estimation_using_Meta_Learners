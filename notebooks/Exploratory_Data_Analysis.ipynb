{
 "cells": [
  {
   "cell_type": "code",
   "execution_count": 2,
   "metadata": {},
   "outputs": [
    {
     "name": "stdout",
     "output_type": "stream",
     "text": [
      "           schoolid             Z             Y            S3            C1  \\\n",
      "count  10391.000000  10391.000000  10391.000000  10391.000000  10391.000000   \n",
      "mean      39.888846      0.325666     -0.096742      5.268117      5.223078   \n",
      "std       24.008975      0.468646      0.643009      1.120765      3.982963   \n",
      "min        1.000000      0.000000     -2.097420      1.000000      1.000000   \n",
      "25%       19.000000      0.000000     -0.548980      5.000000      3.000000   \n",
      "50%       41.000000      0.000000     -0.118923      5.000000      4.000000   \n",
      "75%       62.000000      1.000000      0.335663      6.000000      5.000000   \n",
      "max       76.000000      1.000000      2.194709      7.000000     15.000000   \n",
      "\n",
      "                 C2            C3            XC            X1            X2  \\\n",
      "count  10391.000000  10391.000000  10391.000000  10391.000000  10391.000000   \n",
      "mean       1.489943      0.630931      2.447791     -0.040457      0.054841   \n",
      "std        0.499923      0.482576      1.378420      0.969743      0.935560   \n",
      "min        1.000000      0.000000      0.000000     -3.088790     -3.347819   \n",
      "25%        1.000000      0.000000      1.000000     -0.617888     -0.544506   \n",
      "50%        1.000000      1.000000      2.000000     -0.009954     -0.022514   \n",
      "75%        2.000000      1.000000      4.000000      0.420441      0.726836   \n",
      "max        2.000000      1.000000      4.000000      2.834589      2.171815   \n",
      "\n",
      "                 X3            X4            X5  \n",
      "count  10391.000000  10391.000000  10391.000000  \n",
      "mean      -0.089349     -0.045911     -0.026168  \n",
      "std        0.962804      0.967262      1.010387  \n",
      "min       -1.575463     -1.924778     -1.805073  \n",
      "25%       -0.963095     -0.813799     -0.857026  \n",
      "50%       -0.057036     -0.159602     -0.211553  \n",
      "75%        0.515392      0.596474      0.847844  \n",
      "max        2.358274      2.821660      1.892348  \n"
     ]
    },
    {
     "data": {
      "text/plain": "<Figure size 432x288 with 1 Axes>",
      "image/png": "[encoded data removed]"
     },
     "metadata": {
      "needs_background": "light"
     },
     "output_type": "display_data"
    }
   ],
   "source": [
    "import pandas as pd\n",
    "import matplotlib.pyplot as plt\n",
    "import seaborn as sns\n",
    "\n",
    "# Load data\n",
    "data = pd.read_csv('../data/dataset.csv')\n",
    "\n",
    "# Display basic statistics\n",
    "print(data.describe())\n",
    "\n",
    "# Visualization of treatment vs. outcome\n",
    "sns.boxplot(x='Z', y='Y', data=data)\n",
    "plt.show()\n"
   ]
  }
 ],
 "metadata": {
  "language_info": {
   "name": "python"
  }
 },
 "nbformat": 4,
 "nbformat_minor": 2
}