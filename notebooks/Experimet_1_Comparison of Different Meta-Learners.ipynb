{
 "cells": [
  {
   "cell_type": "code",
   "execution_count": 29,
   "metadata": {
    "collapsed": true
   },
   "outputs": [],
   "source": [
    "# imports\n",
    "import pandas as pd\n",
    "from sklearn.model_selection import train_test_split\n",
    "from sklearn.preprocessing import StandardScaler"
   ]
  },
  {
   "cell_type": "code",
   "execution_count": 30,
   "outputs": [
    {
     "name": "stdout",
     "output_type": "stream",
     "text": [
      "       schoolid  Z         Y  S3  C1  C2  C3  XC        X1        X2  \\\n",
      "0            76  1  0.081602   6   4   2   1   4  0.334544  0.648586   \n",
      "1            76  1 -0.385869   4  12   2   1   4  0.334544  0.648586   \n",
      "2            76  1  0.398184   6   4   2   0   4  0.334544  0.648586   \n",
      "3            76  1 -0.175037   6   4   2   0   4  0.334544  0.648586   \n",
      "4            76  1  0.884583   6   4   1   0   4  0.334544  0.648586   \n",
      "...         ... ..       ...  ..  ..  ..  ..  ..       ...       ...   \n",
      "10386         1  0  0.423366   7   4   2   1   3  1.185986 -1.129889   \n",
      "10387         1  0 -0.197092   7   4   2   1   3  1.185986 -1.129889   \n",
      "10388         1  0  0.141698   2  15   1   1   3  1.185986 -1.129889   \n",
      "10389         1  0 -0.351565   5   4   1   1   3  1.185986 -1.129889   \n",
      "10390         1  0  0.211240   5   1   2   1   3  1.185986 -1.129889   \n",
      "\n",
      "             X3        X4        X5  \n",
      "0     -1.310927  0.224077 -0.426757  \n",
      "1     -1.310927  0.224077 -0.426757  \n",
      "2     -1.310927  0.224077 -0.426757  \n",
      "3     -1.310927  0.224077 -0.426757  \n",
      "4     -1.310927  0.224077 -0.426757  \n",
      "...         ...       ...       ...  \n",
      "10386  1.009875  1.005063 -1.174702  \n",
      "10387  1.009875  1.005063 -1.174702  \n",
      "10388  1.009875  1.005063 -1.174702  \n",
      "10389  1.009875  1.005063 -1.174702  \n",
      "10390  1.009875  1.005063 -1.174702  \n",
      "\n",
      "[10391 rows x 13 columns]\n"
     ]
    }
   ],
   "source": [
    "# Load the dataset\n",
    "dataset = pd.read_csv('../data/dataset.csv')\n",
    "print(dataset)"
   ],
   "metadata": {
    "collapsed": false,
    "pycharm": {
     "name": "#%%\n"
    }
   }
  },
  {
   "cell_type": "code",
   "execution_count": 31,
   "outputs": [],
   "source": [
    "# Define covariates, treatment, and outcome\n",
    "covariate_cols = ['S3', 'C1', 'C2', 'C3', 'XC', 'X1', 'X2', 'X3', 'X4', 'X5']\n",
    "treatment_col = 'Z'\n",
    "outcome_col = 'Y'"
   ],
   "metadata": {
    "collapsed": false,
    "pycharm": {
     "name": "#%%\n"
    }
   }
  },
  {
   "cell_type": "code",
   "execution_count": 32,
   "outputs": [],
   "source": [
    "# Split the data into training and testing sets\n",
    "train_data, test_data = train_test_split(dataset, test_size=0.3, random_state=42)"
   ],
   "metadata": {
    "collapsed": false,
    "pycharm": {
     "name": "#%%\n"
    }
   }
  },
  {
   "cell_type": "code",
   "execution_count": 33,
   "outputs": [
    {
     "name": "stderr",
     "output_type": "stream",
     "text": [
      "<ipython-input-33-ffd184b08ad1>:3: SettingWithCopyWarning: \n",
      "A value is trying to be set on a copy of a slice from a DataFrame.\n",
      "Try using .loc[row_indexer,col_indexer] = value instead\n",
      "\n",
      "See the caveats in the documentation: https://pandas.pydata.org/pandas-docs/stable/user_guide/indexing.html#returning-a-view-versus-a-copy\n",
      "  train_data[covariate_cols] = scaler.fit_transform(train_data[covariate_cols])\n",
      "C:\\Users\\dell\\anaconda3\\lib\\site-packages\\pandas\\core\\indexing.py:1738: SettingWithCopyWarning: \n",
      "A value is trying to be set on a copy of a slice from a DataFrame.\n",
      "Try using .loc[row_indexer,col_indexer] = value instead\n",
      "\n",
      "See the caveats in the documentation: https://pandas.pydata.org/pandas-docs/stable/user_guide/indexing.html#returning-a-view-versus-a-copy\n",
      "  self._setitem_single_column(loc, value[:, i].tolist(), pi)\n",
      "<ipython-input-33-ffd184b08ad1>:4: SettingWithCopyWarning: \n",
      "A value is trying to be set on a copy of a slice from a DataFrame.\n",
      "Try using .loc[row_indexer,col_indexer] = value instead\n",
      "\n",
      "See the caveats in the documentation: https://pandas.pydata.org/pandas-docs/stable/user_guide/indexing.html#returning-a-view-versus-a-copy\n",
      "  test_data[covariate_cols] = scaler.transform(test_data[covariate_cols])\n",
      "C:\\Users\\dell\\anaconda3\\lib\\site-packages\\pandas\\core\\indexing.py:1738: SettingWithCopyWarning: \n",
      "A value is trying to be set on a copy of a slice from a DataFrame.\n",
      "Try using .loc[row_indexer,col_indexer] = value instead\n",
      "\n",
      "See the caveats in the documentation: https://pandas.pydata.org/pandas-docs/stable/user_guide/indexing.html#returning-a-view-versus-a-copy\n",
      "  self._setitem_single_column(loc, value[:, i].tolist(), pi)\n"
     ]
    }
   ],
   "source": [
    "# Standardize the covariates\n",
    "scaler = StandardScaler()\n",
    "train_data[covariate_cols] = scaler.fit_transform(train_data[covariate_cols])\n",
    "test_data[covariate_cols] = scaler.transform(test_data[covariate_cols])\n"
   ],
   "metadata": {
    "collapsed": false,
    "pycharm": {
     "name": "#%%\n"
    }
   }
  },
  {
   "cell_type": "code",
   "execution_count": 34,
   "outputs": [],
   "source": [
    "from sklearn.ensemble import RandomForestRegressor, GradientBoostingRegressor\n",
    "from sklearn.neural_network import MLPRegressor\n",
    "\n",
    "def s_learner(data, treatment_col, outcome_col, covariate_cols, model):\n",
    "    \"\"\"\n",
    "    Train an S-learner model to estimate CATE.\n",
    "    \"\"\"\n",
    "    # Create the covariates matrix, treatment, and outcome vectors\n",
    "    X = data[covariate_cols + [treatment_col]]\n",
    "    y = data[outcome_col]\n",
    "\n",
    "    # Fit the model\n",
    "    model.fit(X, y)\n",
    "\n",
    "    return model\n",
    "\n",
    "# Train S-learner with different models\n",
    "s_learner_rf = s_learner(train_data, treatment_col, outcome_col, covariate_cols, RandomForestRegressor(n_estimators=100, random_state=42))\n",
    "s_learner_gb = s_learner(train_data, treatment_col, outcome_col, covariate_cols, GradientBoostingRegressor(n_estimators=100, random_state=42))\n",
    "s_learner_nn = s_learner(train_data, treatment_col, outcome_col, covariate_cols, MLPRegressor(random_state=42, max_iter=500))\n",
    "\n"
   ],
   "metadata": {
    "collapsed": false,
    "pycharm": {
     "name": "#%%\n"
    }
   }
  },
  {
   "cell_type": "code",
   "execution_count": 35,
   "outputs": [],
   "source": [
    "def t_learner(data, treatment_col, outcome_col, covariate_cols, model):\n",
    "    \"\"\"\n",
    "    Train a T-learner model to estimate CATE.\n",
    "    \"\"\"\n",
    "    # Split data into treatment and control groups\n",
    "    treated = data[data[treatment_col] == 1]\n",
    "    control = data[data[treatment_col] == 0]\n",
    "\n",
    "    X_treated = treated[covariate_cols]\n",
    "    y_treated = treated[outcome_col]\n",
    "\n",
    "    X_control = control[covariate_cols]\n",
    "    y_control = control[outcome_col]\n",
    "\n",
    "    # Fit the models\n",
    "    model_treated = model.fit(X_treated, y_treated)\n",
    "    model_control = model.fit(X_control, y_control)\n",
    "\n",
    "    return model_treated, model_control\n",
    "\n",
    "# Train T-learner with different models\n",
    "t_learner_rf = t_learner(train_data, treatment_col, outcome_col, covariate_cols, RandomForestRegressor(n_estimators=100, random_state=42))\n",
    "t_learner_gb = t_learner(train_data, treatment_col, outcome_col, covariate_cols, GradientBoostingRegressor(n_estimators=100, random_state=42))\n",
    "t_learner_nn = t_learner(train_data, treatment_col, outcome_col, covariate_cols, MLPRegressor(random_state=42, max_iter=500))"
   ],
   "metadata": {
    "collapsed": false,
    "pycharm": {
     "name": "#%%\n"
    }
   }
  },
  {
   "cell_type": "code",
   "execution_count": 43,
   "outputs": [],
   "source": [
    "def x_learner(data, treatment_col, outcome_col, covariate_cols, model):\n",
    "    \"\"\"\n",
    "    Train an X-learner model to estimate CATE.\n",
    "    \"\"\"\n",
    "    # Split data into treatment and control groups\n",
    "    treated = data[data[treatment_col] == 1]\n",
    "    control = data[data[treatment_col] == 0]\n",
    "\n",
    "    X_treated = treated[covariate_cols]\n",
    "    y_treated = treated[outcome_col]\n",
    "\n",
    "    X_control = control[covariate_cols]\n",
    "    y_control = control[outcome_col]\n",
    "\n",
    "    # Step 1: Train T-learners\n",
    "    model_treated = model.fit(X_treated, y_treated)\n",
    "    model_control = model.fit(X_control, y_control)\n",
    "\n",
    "    # Step 2: Predict outcomes\n",
    "    treated_outcome = model_control.predict(X_treated)\n",
    "    control_outcome = model_treated.predict(X_control)\n",
    "\n",
    "    # Step 3: Compute imputed treatment effects\n",
    "    treatment_effect_treated = y_treated - treated_outcome\n",
    "    treatment_effect_control = control_outcome - y_control\n",
    "\n",
    "    # Step 4: Train second-stage models\n",
    "    model_treatment_effect_treated = model.fit(X_treated, treatment_effect_treated)\n",
    "    model_treatment_effect_control = model.fit(X_control, treatment_effect_control)\n",
    "\n",
    "    return model_treatment_effect_treated, model_treatment_effect_control\n",
    "\n",
    "# Train X-learner with different models\n",
    "x_learner_rf = x_learner(train_data, treatment_col, outcome_col, covariate_cols, RandomForestRegressor(n_estimators=100, random_state=42))\n",
    "x_learner_gb = x_learner(train_data, treatment_col, outcome_col, covariate_cols, GradientBoostingRegressor(n_estimators=100, random_state=42))\n",
    "x_learner_nn = x_learner(train_data, treatment_col, outcome_col, covariate_cols, MLPRegressor(random_state=42, max_iter=500))"
   ],
   "metadata": {
    "collapsed": false,
    "pycharm": {
     "name": "#%%\n"
    }
   }
  },
  {
   "cell_type": "code",
   "execution_count": 52,
   "outputs": [
    {
     "name": "stdout",
     "output_type": "stream",
     "text": [
      "Y residuals:\n",
      "count    7.273000e+03\n",
      "mean    -3.112395e-15\n",
      "std      1.000069e+00\n",
      "min     -3.413062e+00\n",
      "25%     -6.931496e-01\n",
      "50%     -1.853035e-02\n",
      "75%      6.771583e-01\n",
      "max      3.371207e+00\n",
      "Name: Y, dtype: float64\n",
      "T residuals:\n",
      "count    7.273000e+03\n",
      "mean     2.168237e-14\n",
      "std      1.000069e+00\n",
      "min     -5.982854e-01\n",
      "25%     -5.982854e-01\n",
      "50%     -5.982854e-01\n",
      "75%      4.714564e-01\n",
      "max      3.252409e+00\n",
      "Name: Z, dtype: float64\n",
      "Regularized T residuals:\n",
      "count    7273.000000\n",
      "mean        0.001000\n",
      "std         1.000069\n",
      "min        -0.597285\n",
      "25%        -0.597285\n",
      "50%        -0.597285\n",
      "75%         0.472456\n",
      "max         3.253409\n",
      "Name: Z, dtype: float64\n",
      "Y residuals:\n",
      "count    7.273000e+03\n",
      "mean    -5.104003e-16\n",
      "std      1.000069e+00\n",
      "min     -3.122033e+00\n",
      "25%     -7.004194e-01\n",
      "50%     -4.340920e-02\n",
      "75%      6.776332e-01\n",
      "max      3.754026e+00\n",
      "Name: Y, dtype: float64\n",
      "T residuals:\n",
      "count    7.273000e+03\n",
      "mean     1.814013e-14\n",
      "std      1.000069e+00\n",
      "min     -6.860917e-01\n",
      "25%     -6.860917e-01\n",
      "50%     -6.860917e-01\n",
      "75%      1.326153e+00\n",
      "max      2.104195e+00\n",
      "Name: Z, dtype: float64\n",
      "Regularized T residuals:\n",
      "count    7273.000000\n",
      "mean        0.001000\n",
      "std         1.000069\n",
      "min        -0.685092\n",
      "25%        -0.685092\n",
      "50%        -0.685092\n",
      "75%         1.327153\n",
      "max         2.105195\n",
      "Name: Z, dtype: float64\n",
      "Y residuals:\n",
      "count    7.273000e+03\n",
      "mean     3.449431e-16\n",
      "std      1.000069e+00\n",
      "min     -3.041363e+00\n",
      "25%     -7.004704e-01\n",
      "50%     -3.463944e-02\n",
      "75%      6.800974e-01\n",
      "max      3.529857e+00\n",
      "Name: Y, dtype: float64\n",
      "T residuals:\n",
      "count    7.273000e+03\n",
      "mean     1.896935e-14\n",
      "std      1.000069e+00\n",
      "min     -6.800571e-01\n",
      "25%     -6.800571e-01\n",
      "50%     -6.800571e-01\n",
      "75%      1.206864e+00\n",
      "max      2.835800e+00\n",
      "Name: Z, dtype: float64\n",
      "Regularized T residuals:\n",
      "count    7273.000000\n",
      "mean        0.001000\n",
      "std         1.000069\n",
      "min        -0.679057\n",
      "25%        -0.679057\n",
      "50%        -0.679057\n",
      "75%         1.207864\n",
      "max         2.836800\n",
      "Name: Z, dtype: float64\n"
     ]
    }
   ],
   "source": [
    "import numpy as np\n",
    "from sklearn.linear_model import Ridge\n",
    "import numpy as np\n",
    "import pandas as pd\n",
    "from sklearn.ensemble import RandomForestRegressor\n",
    "\n",
    "def r_learner(data, treatment_col, outcome_col, covariate_cols, model):\n",
    "    \"\"\"\n",
    "    Train an R-learner model to estimate CATE.\n",
    "    \"\"\"\n",
    "    # Create the covariates matrix and the outcome vector\n",
    "    X = data[covariate_cols]\n",
    "    T = data[treatment_col]\n",
    "    y = data[outcome_col]\n",
    "\n",
    "    # Step 1: Fit a model to predict the outcome using covariates\n",
    "    y_model = model\n",
    "    y_model.fit(X, y)\n",
    "\n",
    "    # Step 2: Fit a model to predict the treatment using covariates\n",
    "    t_model = model\n",
    "    t_model.fit(X, T)\n",
    "\n",
    "    # Compute residuals\n",
    "    y_residual = y - y_model.predict(X)\n",
    "    t_residual = T - t_model.predict(X)\n",
    "\n",
    "    # Clip t_residual to avoid extremely small values\n",
    "    t_residual_clipped = t_residual.clip(lower=0.01)\n",
    "\n",
    "    # Normalize residuals\n",
    "    y_residual = (y_residual - np.mean(y_residual)) / np.std(y_residual)\n",
    "    t_residual = (t_residual_clipped - np.mean(t_residual_clipped)) / np.std(t_residual_clipped)\n",
    "\n",
    "    # Print diagnostic information\n",
    "    print(\"Y residuals:\")\n",
    "    print(y_residual.describe())\n",
    "    print(\"T residuals:\")\n",
    "    print(t_residual.describe())\n",
    "\n",
    "    # Add a regularization term to avoid division by very small values\n",
    "    epsilon = 1e-3 * np.std(t_residual)\n",
    "    t_residual_regularized = t_residual + epsilon\n",
    "\n",
    "    # Print diagnostic information\n",
    "    print(\"Regularized T residuals:\")\n",
    "    print(t_residual_regularized.describe())\n",
    "\n",
    "    # Step 3: Fit a Ridge Regression model on the residuals to estimate the treatment effect\n",
    "    tau_model = Ridge(alpha=1.0)  # Regularization strength; must be a positive float\n",
    "    tau_model.fit(X, y_residual / t_residual_regularized)\n",
    "\n",
    "    return tau_model, y_model, t_model, y_residual, t_residual\n",
    "\n",
    "\n",
    "# Train R-learner with different models\n",
    "r_learner_rf = r_learner(train_data, treatment_col, outcome_col, covariate_cols, RandomForestRegressor(n_estimators=100, random_state=42))\n",
    "r_learner_gb = r_learner(train_data, treatment_col, outcome_col, covariate_cols, GradientBoostingRegressor(n_estimators=100, random_state=42))\n",
    "r_learner_nn = r_learner(train_data, treatment_col, outcome_col, covariate_cols, MLPRegressor(random_state=42, max_iter=500))"
   ],
   "metadata": {
    "collapsed": false,
    "pycharm": {
     "name": "#%%\n"
    }
   }
  },
  {
   "cell_type": "code",
   "execution_count": 53,
   "outputs": [
    {
     "name": "stdout",
     "output_type": "stream",
     "text": [
      "Predictions:\n",
      "count    3118.000000\n",
      "mean       -0.167160\n",
      "std         0.410451\n",
      "min        -1.523592\n",
      "25%        -0.456733\n",
      "50%        -0.090821\n",
      "75%         0.128952\n",
      "max         0.938877\n",
      "dtype: float64\n",
      "Predictions:\n",
      "count    3118.000000\n",
      "mean        0.416813\n",
      "std         0.962044\n",
      "min        -2.366824\n",
      "25%        -0.228671\n",
      "50%         0.376987\n",
      "75%         0.999536\n",
      "max         3.987035\n",
      "dtype: float64\n",
      "Predictions:\n",
      "count    3118.000000\n",
      "mean        0.199334\n",
      "std         0.279071\n",
      "min        -0.542978\n",
      "25%         0.012239\n",
      "50%         0.181903\n",
      "75%         0.352010\n",
      "max         1.329004\n",
      "dtype: float64\n",
      "S-learner (RandomForest): 0.32986833479089345\n",
      "S-learner (GradientBoosting): 0.2691898556942669\n",
      "S-learner (NeuralNetwork): 0.2917221061142651\n",
      "T-learner (RandomForest): 0.6137174948393895\n",
      "T-learner (GradientBoosting): 0.5435492670494957\n",
      "T-learner (NeuralNetwork): 0.5595374191831007\n",
      "X-learner (RandomForest): 0.43925880131372813\n",
      "X-learner (GradientBoosting): 0.4363340119121809\n",
      "X-learner (NeuralNetwork): 0.43784723999065267\n",
      "R-learner (RandomForest): 0.5760188605341312\n",
      "R-learner (GradientBoosting): 2.168982072212969\n",
      "R-learner (NeuralNetwork): 0.7650083295462408\n"
     ]
    }
   ],
   "source": [
    "from sklearn.metrics import mean_squared_error\n",
    "\n",
    "def evaluate_model(test_data, treatment_col, outcome_col, covariate_cols, model, meta_learner):\n",
    "    \"\"\"\n",
    "    Evaluate the performance of a meta-learner.\n",
    "    \"\"\"\n",
    "    X_test = test_data[covariate_cols + [treatment_col]]\n",
    "    y_test = test_data[outcome_col]\n",
    "\n",
    "    if meta_learner == 's':\n",
    "        predictions = model.predict(X_test)\n",
    "    elif meta_learner == 't':\n",
    "        treated, control = model\n",
    "        predictions_treated = treated.predict(test_data[test_data[treatment_col] == 1][covariate_cols])\n",
    "        predictions_control = control.predict(test_data[test_data[treatment_col] == 0][covariate_cols])\n",
    "        predictions = pd.concat([pd.Series(predictions_treated), pd.Series(predictions_control)], ignore_index=True)\n",
    "    elif meta_learner == 'x':\n",
    "        treated, control = model\n",
    "        predictions_treated = treated.predict(test_data[test_data[treatment_col] == 1][covariate_cols])\n",
    "        predictions_control = control.predict(test_data[test_data[treatment_col] == 0][covariate_cols])\n",
    "        predictions = pd.concat([pd.Series(predictions_treated), pd.Series(predictions_control)], ignore_index=True)\n",
    "    elif meta_learner == 'r':\n",
    "        tau_model, _, _, _, _ = model\n",
    "        predictions = tau_model.predict(test_data[covariate_cols])\n",
    "        # Print diagnostic information\n",
    "        print(\"Predictions:\")\n",
    "        print(pd.Series(predictions).describe())\n",
    "\n",
    "    mse = mean_squared_error(y_test, predictions)\n",
    "    return mse\n",
    "\n",
    "# Evaluate S-learner\n",
    "mse_s_rf = evaluate_model(test_data, treatment_col, outcome_col, covariate_cols, s_learner_rf, 's')\n",
    "mse_s_gb = evaluate_model(test_data, treatment_col, outcome_col, covariate_cols, s_learner_gb, 's')\n",
    "mse_s_nn = evaluate_model(test_data, treatment_col, outcome_col, covariate_cols, s_learner_nn, 's')\n",
    "\n",
    "# Evaluate T-learner\n",
    "mse_t_rf = evaluate_model(test_data, treatment_col, outcome_col, covariate_cols, t_learner_rf, 't')\n",
    "mse_t_gb = evaluate_model(test_data, treatment_col, outcome_col, covariate_cols, t_learner_gb, 't')\n",
    "mse_t_nn = evaluate_model(test_data, treatment_col, outcome_col, covariate_cols, t_learner_nn, 't')\n",
    "\n",
    "# Evaluate X-learner\n",
    "mse_x_rf = evaluate_model(test_data, treatment_col, outcome_col, covariate_cols, x_learner_rf, 'x')\n",
    "mse_x_gb = evaluate_model(test_data, treatment_col, outcome_col, covariate_cols, x_learner_gb, 'x')\n",
    "mse_x_nn = evaluate_model(test_data, treatment_col, outcome_col, covariate_cols, x_learner_nn, 'x')\n",
    "\n",
    "# Evaluate R-learner\n",
    "mse_r_rf = evaluate_model(test_data, treatment_col, outcome_col, covariate_cols, r_learner_rf, 'r')\n",
    "mse_r_gb = evaluate_model(test_data, treatment_col, outcome_col, covariate_cols, r_learner_gb, 'r')\n",
    "mse_r_nn = evaluate_model(test_data, treatment_col, outcome_col, covariate_cols, r_learner_nn, 'r')\n",
    "\n",
    "# Print results\n",
    "print(f'S-learner (RandomForest): {mse_s_rf}')\n",
    "print(f'S-learner (GradientBoosting): {mse_s_gb}')\n",
    "print(f'S-learner (NeuralNetwork): {mse_s_nn}')\n",
    "print(f'T-learner (RandomForest): {mse_t_rf}')\n",
    "print(f'T-learner (GradientBoosting): {mse_t_gb}')\n",
    "print(f'T-learner (NeuralNetwork): {mse_t_nn}')\n",
    "print(f'X-learner (RandomForest): {mse_x_rf}')\n",
    "print(f'X-learner (GradientBoosting): {mse_x_gb}')\n",
    "print(f'X-learner (NeuralNetwork): {mse_x_nn}')\n",
    "print(f'R-learner (RandomForest): {mse_r_rf}')\n",
    "print(f'R-learner (GradientBoosting): {mse_r_gb}')\n",
    "print(f'R-learner (NeuralNetwork): {mse_r_nn}')"
   ],
   "metadata": {
    "collapsed": false,
    "pycharm": {
     "name": "#%%\n"
    }
   }
  },
  {
   "cell_type": "code",
   "execution_count": 54,
   "outputs": [],
   "source": [
    "import pandas as pd\n",
    "\n",
    "# Aggregate the MSE values into a DataFrame\n",
    "mse_data = {\n",
    "    'Meta-Learner': ['S-Learner', 'S-Learner', 'S-Learner', 'T-Learner', 'T-Learner', 'T-Learner',\n",
    "                     'X-Learner', 'X-Learner', 'X-Learner', 'R-Learner', 'R-Learner', 'R-Learner'],\n",
    "    'Model': ['RandomForest', 'GradientBoosting', 'NeuralNetwork', 'RandomForest', 'GradientBoosting', 'NeuralNetwork',\n",
    "              'RandomForest', 'GradientBoosting', 'NeuralNetwork', 'RandomForest', 'GradientBoosting', 'NeuralNetwork'],\n",
    "    'MSE': [mse_s_rf, mse_s_gb, mse_s_nn, mse_t_rf, mse_t_gb, mse_t_nn, mse_x_rf, mse_x_gb, mse_x_nn, mse_r_rf, mse_r_gb, mse_r_nn]\n",
    "}\n",
    "\n",
    "mse_df = pd.DataFrame(mse_data)"
   ],
   "metadata": {
    "collapsed": false,
    "pycharm": {
     "name": "#%%\n"
    }
   }
  },
  {
   "cell_type": "code",
   "execution_count": 59,
   "outputs": [
    {
     "data": {
      "text/plain": "<Figure size 1008x576 with 1 Axes>",
      "image/png": "[encoded data removed]"
     },
     "metadata": {},
     "output_type": "display_data"
    }
   ],
   "source": [
    "import matplotlib.pyplot as plt\n",
    "import seaborn as sns\n",
    "\n",
    "# Set the aesthetics for the plots\n",
    "sns.set(style=\"whitegrid\")\n",
    "\n",
    "# Create the bar plot\n",
    "plt.figure(figsize=(14, 8))\n",
    "sns.barplot(x='Meta-Learner', y='MSE', hue='Model', data=mse_df)\n",
    "plt.title('Comparison of MSE for Different Meta-Learners and Models')\n",
    "plt.xlabel('Meta-Learner')\n",
    "plt.ylabel('Mean Squared Error (MSE)')\n",
    "plt.legend(title='Model')\n",
    "plt.show()"
   ],
   "metadata": {
    "collapsed": false,
    "pycharm": {
     "name": "#%%\n"
    }
   }
  },
  {
   "cell_type": "code",
   "execution_count": 60,
   "outputs": [
    {
     "data": {
      "text/plain": "<IPython.core.display.Markdown object>",
      "text/markdown": "\n### Interpretation of Results\n\n#### S-Learner:\n- GradientBoosting has the lowest MSE (0.269), followed by NeuralNetwork (0.292) and RandomForest (0.330).\n\n#### T-Learner:\n- GradientBoosting also performs best for the T-Learner (0.544), followed by NeuralNetwork (0.560) and RandomForest (0.614).\n\n#### X-Learner:\n- All models have very similar MSE values (around 0.436 to 0.439).\n\n#### R-Learner:\n- RandomForest shows a significant improvement with an MSE of 0.576.\n- NeuralNetwork also performs reasonably well with an MSE of 0.765.\n- GradientBoosting has a higher MSE of 2.169, indicating it may not be as suitable for the R-learner in this context.\n"
     },
     "metadata": {},
     "output_type": "display_data"
    }
   ],
   "source": [
    "from IPython.display import Markdown, display\n",
    "\n",
    "# Define the markdown content\n",
    "conclusion = \"\"\"\n",
    "### Interpretation of Results\n",
    "\n",
    "#### S-Learner:\n",
    "- GradientBoosting has the lowest MSE (0.269), followed by NeuralNetwork (0.292) and RandomForest (0.330).\n",
    "\n",
    "#### T-Learner:\n",
    "- GradientBoosting also performs best for the T-Learner (0.544), followed by NeuralNetwork (0.560) and RandomForest (0.614).\n",
    "\n",
    "#### X-Learner:\n",
    "- All models have very similar MSE values (around 0.436 to 0.439).\n",
    "\n",
    "#### R-Learner:\n",
    "- RandomForest shows a significant improvement with an MSE of 0.576.\n",
    "- NeuralNetwork also performs reasonably well with an MSE of 0.765.\n",
    "- GradientBoosting has a higher MSE of 2.169, indicating it may not be as suitable for the R-learner in this context.\n",
    "\"\"\"\n",
    "\n",
    "# Display the markdown\n",
    "display(Markdown(conclusion))\n",
    "\n"
   ],
   "metadata": {
    "collapsed": false,
    "pycharm": {
     "name": "#%%\n"
    }
   }
  },
  {
   "cell_type": "code",
   "execution_count": null,
   "outputs": [],
   "source": [],
   "metadata": {
    "collapsed": false,
    "pycharm": {
     "name": "#%%\n"
    }
   }
  }
 ],
 "metadata": {
  "kernelspec": {
   "display_name": "Python 3",
   "language": "python",
   "name": "python3"
  },
  "language_info": {
   "codemirror_mode": {
    "name": "ipython",
    "version": 2
   },
   "file_extension": ".py",
   "mimetype": "text/x-python",
   "name": "python",
   "nbconvert_exporter": "python",
   "pygments_lexer": "ipython2",
   "version": "2.7.6"
  }
 },
 "nbformat": 4,
 "nbformat_minor": 0
}