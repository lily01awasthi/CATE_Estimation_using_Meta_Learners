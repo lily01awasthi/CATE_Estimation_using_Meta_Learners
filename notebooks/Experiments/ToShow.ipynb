{
 "cells": [
  {
   "cell_type": "markdown",
   "metadata": {},
   "source": [
    "# CATE Estimation Using Meta-Learners "
   ]
  },
  {
   "cell_type": "markdown",
   "metadata": {},
   "source": [
    "The dataset is loaded into a pandas DataFrame for manipulation and analysis."
   ]
  },
  {
   "cell_type": "code",
   "execution_count": 3,
   "metadata": {},
   "outputs": [
    {
     "ename": "SyntaxError",
     "evalue": "invalid syntax (Temp/ipykernel_3540/3924149900.py, line 2)",
     "output_type": "error",
     "traceback": [
      "\u001b[1;36m  File \u001b[1;32m\"C:\\Users\\dell\\AppData\\Local\\Temp/ipykernel_3540/3924149900.py\"\u001b[1;36m, line \u001b[1;32m2\u001b[0m\n\u001b[1;33m    pip install pandas\u001b[0m\n\u001b[1;37m        ^\u001b[0m\n\u001b[1;31mSyntaxError\u001b[0m\u001b[1;31m:\u001b[0m invalid syntax\n"
     ]
    }
   ],
   "source": [
    "# Load the dataset\n",
    "pip install pandas\n",
    "import pandas as pd\n",
    "dataset = pd.read_csv('../data/dataset.csv')\n",
    "print(dataset)"
   ]
  },
  {
   "cell_type": "markdown",
   "metadata": {},
   "source": [
    "Columns are renamed to more descriptive names for clarity."
   ]
  },
  {
   "cell_type": "code",
   "execution_count": 49,
   "metadata": {
    "pycharm": {
     "name": "#%%\n"
    }
   },
   "outputs": [
    {
     "name": "stdout",
     "output_type": "stream",
     "text": [
      "       schoolid  GrowthMindsetIntervention  StudentAchievementScore  \\\n",
      "0            76                          1                 0.081602   \n",
      "1            76                          1                -0.385869   \n",
      "2            76                          1                 0.398184   \n",
      "3            76                          1                -0.175037   \n",
      "4            76                          1                 0.884583   \n",
      "...         ...                        ...                      ...   \n",
      "10386         1                          0                 0.423366   \n",
      "10387         1                          0                -0.197092   \n",
      "10388         1                          0                 0.141698   \n",
      "10389         1                          0                -0.351565   \n",
      "10390         1                          0                 0.211240   \n",
      "\n",
      "       FutureSuccessExpectations  StudentRaceEthnicity  StudentGender  \\\n",
      "0                              6                     4              2   \n",
      "1                              4                    12              2   \n",
      "2                              6                     4              2   \n",
      "3                              6                     4              2   \n",
      "4                              6                     4              1   \n",
      "...                          ...                   ...            ...   \n",
      "10386                          7                     4              2   \n",
      "10387                          7                     4              2   \n",
      "10388                          2                    15              1   \n",
      "10389                          5                     4              1   \n",
      "10390                          5                     1              2   \n",
      "\n",
      "       FirstGenCollegeStatus  SchoolUrbanicity  PreInterventionFixedMindset  \\\n",
      "0                          1                 4                     0.334544   \n",
      "1                          1                 4                     0.334544   \n",
      "2                          0                 4                     0.334544   \n",
      "3                          0                 4                     0.334544   \n",
      "4                          0                 4                     0.334544   \n",
      "...                      ...               ...                          ...   \n",
      "10386                      1                 3                     1.185986   \n",
      "10387                      1                 3                     1.185986   \n",
      "10388                      1                 3                     1.185986   \n",
      "10389                      1                 3                     1.185986   \n",
      "10390                      1                 3                     1.185986   \n",
      "\n",
      "       SchoolAchievementLevel  SchoolMinorityComposition  \\\n",
      "0                    0.648586                  -1.310927   \n",
      "1                    0.648586                  -1.310927   \n",
      "2                    0.648586                  -1.310927   \n",
      "3                    0.648586                  -1.310927   \n",
      "4                    0.648586                  -1.310927   \n",
      "...                       ...                        ...   \n",
      "10386               -1.129889                   1.009875   \n",
      "10387               -1.129889                   1.009875   \n",
      "10388               -1.129889                   1.009875   \n",
      "10389               -1.129889                   1.009875   \n",
      "10390               -1.129889                   1.009875   \n",
      "\n",
      "       PovertyConcentration  TotalStudentPopulation  \n",
      "0                  0.224077               -0.426757  \n",
      "1                  0.224077               -0.426757  \n",
      "2                  0.224077               -0.426757  \n",
      "3                  0.224077               -0.426757  \n",
      "4                  0.224077               -0.426757  \n",
      "...                     ...                     ...  \n",
      "10386              1.005063               -1.174702  \n",
      "10387              1.005063               -1.174702  \n",
      "10388              1.005063               -1.174702  \n",
      "10389              1.005063               -1.174702  \n",
      "10390              1.005063               -1.174702  \n",
      "\n",
      "[10391 rows x 13 columns]\n"
     ]
    }
   ],
   "source": [
    "data = dataset.rename(columns={\n",
    "        'Y': 'StudentAchievementScore',\n",
    "        'Z': 'GrowthMindsetIntervention',\n",
    "        'S3': 'FutureSuccessExpectations',\n",
    "        'C1': 'StudentRaceEthnicity',\n",
    "        'C2': 'StudentGender',\n",
    "        'C3': 'FirstGenCollegeStatus',\n",
    "        'XC': 'SchoolUrbanicity',\n",
    "        'X1': 'PreInterventionFixedMindset',\n",
    "        'X2': 'SchoolAchievementLevel',\n",
    "        'X3': 'SchoolMinorityComposition',\n",
    "        'X4': 'PovertyConcentration',\n",
    "        'X5': 'TotalStudentPopulation'\n",
    "    })\n",
    "print(data)"
   ]
  },
  {
   "cell_type": "markdown",
   "metadata": {},
   "source": [
    "The dataset is split into treated and control groups based on the 'GrowthMindsetIntervention' column."
   ]
  },
  {
   "cell_type": "markdown",
   "metadata": {},
   "source": [
    "## S-Learner"
   ]
  },
  {
   "cell_type": "markdown",
   "metadata": {},
   "source": [
    "The S-Learner is a straightforward method for estimating Conditional Average Treatment Effects (CATE) in observational studies. It combines the treatment indicator with covariates in a single model to predict outcomes. This simplicity can be advantageous but may not capture complex treatment interactions as effectively as other methods.\n",
    "### S-Learner Algorithm Steps:\n",
    "1. Combine Treatment and covariates:\n",
    "    Construct a single dataset that includes both treatment indicator T and the covariates X.\n",
    "2. Fit a Single Model:\n",
    "    Fit a single predictive model to estimate the outcome Y using the combined dataset[X,T]\n",
    "    Let Y^(X,T) be the predicted outcome from this model.\n",
    "3. Predict counterfactuals:\n",
    "    Predict the outcomes by setting the treatment indicator T to 1 and 0 respectively.\n",
    "    For treated individuals: Y^(X) = Y^(X,T=1)\n",
    "    For control individuals: Y^(X) = Y^(X,T=0)\n",
    "4. Estimate Treatment Effects\n",
    "    Compute the treatment effect for each individual as the difference between the two predicted outcomes: τ(X) = Y^1(X) - Y^0(X).\n"
   ]
  },
  {
   "cell_type": "markdown",
   "metadata": {},
   "source": [
    "## S-Learner Model Training"
   ]
  },
  {
   "cell_type": "code",
   "execution_count": 4,
   "metadata": {
    "pycharm": {
     "name": "#%%\n"
    }
   },
   "outputs": [
    {
     "name": "stdout",
     "output_type": "stream",
     "text": [
      "      schoolid  GrowthMindsetIntervention  StudentAchievementScore  \\\n",
      "0           76                          1                 0.081602   \n",
      "1           76                          1                -0.385869   \n",
      "2           76                          1                 0.398184   \n",
      "3           76                          1                -0.175037   \n",
      "4           76                          1                 0.884583   \n",
      "...        ...                        ...                      ...   \n",
      "3379         1                          1                -0.182348   \n",
      "3380         1                          1                -0.183764   \n",
      "3381         1                          1                -0.493196   \n",
      "3382         1                          1                -1.108511   \n",
      "3383         1                          1                -0.645656   \n",
      "\n",
      "      FutureSuccessExpectations  StudentRaceEthnicity  StudentGender  \\\n",
      "0                             6                     4              2   \n",
      "1                             4                    12              2   \n",
      "2                             6                     4              2   \n",
      "3                             6                     4              2   \n",
      "4                             6                     4              1   \n",
      "...                         ...                   ...            ...   \n",
      "3379                          6                     3              1   \n",
      "3380                          5                     2              1   \n",
      "3381                          6                    11              1   \n",
      "3382                          4                     4              1   \n",
      "3383                          5                     4              1   \n",
      "\n",
      "      FirstGenCollegeStatus  SchoolUrbanicity  PreInterventionFixedMindset  \\\n",
      "0                         1                 4                     0.334544   \n",
      "1                         1                 4                     0.334544   \n",
      "2                         0                 4                     0.334544   \n",
      "3                         0                 4                     0.334544   \n",
      "4                         0                 4                     0.334544   \n",
      "...                     ...               ...                          ...   \n",
      "3379                      1                 3                     1.185986   \n",
      "3380                      1                 3                     1.185986   \n",
      "3381                      0                 3                     1.185986   \n",
      "3382                      1                 3                     1.185986   \n",
      "3383                      1                 3                     1.185986   \n",
      "\n",
      "      SchoolAchievementLevel  SchoolMinorityComposition  PovertyConcentration  \\\n",
      "0                   0.648586                  -1.310927              0.224077   \n",
      "1                   0.648586                  -1.310927              0.224077   \n",
      "2                   0.648586                  -1.310927              0.224077   \n",
      "3                   0.648586                  -1.310927              0.224077   \n",
      "4                   0.648586                  -1.310927              0.224077   \n",
      "...                      ...                        ...                   ...   \n",
      "3379               -1.129889                   1.009875              1.005063   \n",
      "3380               -1.129889                   1.009875              1.005063   \n",
      "3381               -1.129889                   1.009875              1.005063   \n",
      "3382               -1.129889                   1.009875              1.005063   \n",
      "3383               -1.129889                   1.009875              1.005063   \n",
      "\n",
      "      TotalStudentPopulation  \n",
      "0                  -0.426757  \n",
      "1                  -0.426757  \n",
      "2                  -0.426757  \n",
      "3                  -0.426757  \n",
      "4                  -0.426757  \n",
      "...                      ...  \n",
      "3379               -1.174702  \n",
      "3380               -1.174702  \n",
      "3381               -1.174702  \n",
      "3382               -1.174702  \n",
      "3383               -1.174702  \n",
      "\n",
      "[3384 rows x 13 columns]\n",
      "       schoolid  GrowthMindsetIntervention  StudentAchievementScore  \\\n",
      "3384         76                          0                -1.434893   \n",
      "3385         76                          0                 0.999290   \n",
      "3386         76                          0                 0.197742   \n",
      "3387         76                          0                -0.059160   \n",
      "3388         76                          0                -0.041489   \n",
      "...         ...                        ...                      ...   \n",
      "10386         1                          0                 0.423366   \n",
      "10387         1                          0                -0.197092   \n",
      "10388         1                          0                 0.141698   \n",
      "10389         1                          0                -0.351565   \n",
      "10390         1                          0                 0.211240   \n",
      "\n",
      "       FutureSuccessExpectations  StudentRaceEthnicity  StudentGender  \\\n",
      "3384                           5                     4              2   \n",
      "3385                           5                    14              1   \n",
      "3386                           5                     4              2   \n",
      "3387                           5                     8              2   \n",
      "3388                           6                     4              2   \n",
      "...                          ...                   ...            ...   \n",
      "10386                          7                     4              2   \n",
      "10387                          7                     4              2   \n",
      "10388                          2                    15              1   \n",
      "10389                          5                     4              1   \n",
      "10390                          5                     1              2   \n",
      "\n",
      "       FirstGenCollegeStatus  SchoolUrbanicity  PreInterventionFixedMindset  \\\n",
      "3384                       1                 4                     0.334544   \n",
      "3385                       0                 4                     0.334544   \n",
      "3386                       0                 4                     0.334544   \n",
      "3387                       0                 4                     0.334544   \n",
      "3388                       0                 4                     0.334544   \n",
      "...                      ...               ...                          ...   \n",
      "10386                      1                 3                     1.185986   \n",
      "10387                      1                 3                     1.185986   \n",
      "10388                      1                 3                     1.185986   \n",
      "10389                      1                 3                     1.185986   \n",
      "10390                      1                 3                     1.185986   \n",
      "\n",
      "       SchoolAchievementLevel  SchoolMinorityComposition  \\\n",
      "3384                 0.648586                  -1.310927   \n",
      "3385                 0.648586                  -1.310927   \n",
      "3386                 0.648586                  -1.310927   \n",
      "3387                 0.648586                  -1.310927   \n",
      "3388                 0.648586                  -1.310927   \n",
      "...                       ...                        ...   \n",
      "10386               -1.129889                   1.009875   \n",
      "10387               -1.129889                   1.009875   \n",
      "10388               -1.129889                   1.009875   \n",
      "10389               -1.129889                   1.009875   \n",
      "10390               -1.129889                   1.009875   \n",
      "\n",
      "       PovertyConcentration  TotalStudentPopulation  \n",
      "3384               0.224077               -0.426757  \n",
      "3385               0.224077               -0.426757  \n",
      "3386               0.224077               -0.426757  \n",
      "3387               0.224077               -0.426757  \n",
      "3388               0.224077               -0.426757  \n",
      "...                     ...                     ...  \n",
      "10386              1.005063               -1.174702  \n",
      "10387              1.005063               -1.174702  \n",
      "10388              1.005063               -1.174702  \n",
      "10389              1.005063               -1.174702  \n",
      "10390              1.005063               -1.174702  \n",
      "\n",
      "[7007 rows x 13 columns]\n"
     ]
    }
   ],
   "source": [
    "# S-learner model RandomForestRegressor\n",
    "from sklearn.ensemble import RandomForestRegressor\n",
    "# Split the data into treatment and control groups\n",
    "treated_data = data[data['GrowthMindsetIntervention'] == 1]\n",
    "control_data = data[data['GrowthMindsetIntervention'] == 0]\n",
    "print(treated_data)\n",
    "print(control_data)"
   ]
  },
  {
   "cell_type": "markdown",
   "metadata": {},
   "source": [
    "The treatment column, outcome column, and covariate columns are defined. A feature matrix \n",
    "X is created by combining the covariates and the treatment column. The outcome vector \n",
    "Y is the 'StudentAchievementScore' column."
   ]
  },
  {
   "cell_type": "code",
   "execution_count": 5,
   "metadata": {
    "pycharm": {
     "name": "#%%\n"
    }
   },
   "outputs": [],
   "source": [
    "# Define columns\n",
    "treatment_col = 'GrowthMindsetIntervention'\n",
    "outcome_col = 'StudentAchievementScore'\n",
    "covariate_cols = [\n",
    "    'FutureSuccessExpectations', 'StudentRaceEthnicity', 'StudentGender',\n",
    "    'FirstGenCollegeStatus', 'SchoolUrbanicity', 'PreInterventionFixedMindset',\n",
    "    'SchoolAchievementLevel', 'SchoolMinorityComposition', 'PovertyConcentration',\n",
    "    'TotalStudentPopulation'\n",
    "    ]"
   ]
  },
  {
   "cell_type": "code",
   "execution_count": 6,
   "metadata": {
    "pycharm": {
     "name": "#%%\n"
    }
   },
   "outputs": [],
   "source": [
    "# Create the covariates matrix and the outcome vector\n",
    "X = pd.concat([data[covariate_cols], data[[treatment_col]]], axis=1)\n",
    "Y = data[outcome_col]"
   ]
  },
  {
   "cell_type": "markdown",
   "metadata": {},
   "source": [
    "A RandomForestRegressor model is trained using the combined data of covariates and treatment indicator to predict the outcome."
   ]
  },
  {
   "cell_type": "code",
   "execution_count": 7,
   "metadata": {
    "pycharm": {
     "name": "#%%\n"
    }
   },
   "outputs": [
    {
     "data": {
      "text/plain": [
       "RandomForestRegressor(random_state=42)"
      ]
     },
     "execution_count": 7,
     "metadata": {},
     "output_type": "execute_result"
    }
   ],
   "source": [
    "# Train a model on the combined data\n",
    "model = RandomForestRegressor(n_estimators=100, random_state=42)\n",
    "model.fit(X, Y)"
   ]
  },
  {
   "cell_type": "markdown",
   "metadata": {},
   "source": [
    "Predictions for outcomes are made under both control (setting treatment to 0) and treatment (setting treatment to 1) conditions. The difference between these predictions gives the estimated CATE for each individual."
   ]
  },
  {
   "cell_type": "code",
   "execution_count": 8,
   "metadata": {
    "pycharm": {
     "name": "#%%\n"
    }
   },
   "outputs": [
    {
     "name": "stdout",
     "output_type": "stream",
     "text": [
      "[ 0.29827264 -0.48184832  0.17181445 ... -0.50513365 -0.39834549\n",
      " -0.52406924]\n",
      "[-0.2583854  -0.3706101   0.16415784 ... -0.08301945 -0.43732902\n",
      "  0.01875603]\n"
     ]
    }
   ],
   "source": [
    "#pd.DataFrame with columns 'pred_0' and 'pred_1' for control and treatment predictions\n",
    "X_control = X.copy()\n",
    "X_control[treatment_col] = 0\n",
    "pred_0 = model.predict(X_control)\n",
    "\n",
    "X_treatment = X.copy()\n",
    "X_treatment[treatment_col] = 1\n",
    "pred_1 = model.predict(X_treatment)\n",
    "print(pred_1)\n",
    "print(pred_0)"
   ]
  },
  {
   "cell_type": "code",
   "execution_count": 9,
   "metadata": {
    "pycharm": {
     "name": "#%%\n"
    }
   },
   "outputs": [],
   "source": [
    "Predictions = pred_1-pred_0"
   ]
  },
  {
   "cell_type": "markdown",
   "metadata": {},
   "source": [
    "The predictions are filtered to focus on urban students (where 'SchoolUrbanicity' is 'Urban'). The average (CATE) for urban students is calculated and printed."
   ]
  },
  {
   "cell_type": "code",
   "execution_count": 10,
   "metadata": {
    "pycharm": {
     "name": "#%%\n"
    }
   },
   "outputs": [
    {
     "name": "stdout",
     "output_type": "stream",
     "text": [
      "Average CATE for Urban Students: 0.282949674320265\n"
     ]
    }
   ],
   "source": [
    "# Filter the for urban students\n",
    "Urban_students_predictions = Predictions[data['SchoolUrbanicity'] == 4]\n",
    "\n",
    "# Calculate and print the average CATE for urban students\n",
    "CATE_Urban_S_LEARNER = Urban_students_predictions.mean()\n",
    "print(\"Average CATE for Urban Students:\", CATE_Urban_S_LEARNER)"
   ]
  },
  {
   "cell_type": "code",
   "execution_count": 11,
   "metadata": {
    "pycharm": {
     "name": "#%%\n"
    }
   },
   "outputs": [
    {
     "name": "stdout",
     "output_type": "stream",
     "text": [
      "This means that for the students from urban schools,\n",
      "the achievement score was improved by 0.28 points\n",
      "due to the Growth Mindset Intervention.\n"
     ]
    }
   ],
   "source": [
    "print(f\"\"\"This means that for the students from urban schools,\n",
    "the achievement score was improved by {CATE_Urban_S_LEARNER:.2f} points\n",
    "due to the Growth Mindset Intervention.\"\"\")"
   ]
  },
  {
   "cell_type": "markdown",
   "metadata": {},
   "source": [
    "# # T-Learner"
   ]
  },
  {
   "cell_type": "markdown",
   "metadata": {},
   "source": [
    "The T-Learner is a common method for estimating Conditional Average Treatment Effects (CATE) in observational studies. It fits separate models for the treated and control groups, predicting outcomes based on covariates. This separation can effectively capture different treatment effects but requires sufficient data for both groups.\n",
    "### T-Learner Algorithm steps:\n",
    "1. Fit Separate Models:\n",
    "    Fit two separate models: one for treated group (T=1) and one for the control group ( T=0)\n",
    "    Let Y^1(X) and Y^(0) be the predicted outcomes from those models.\n",
    "2. Predict Counterfactuals:\n",
    "    For each individual, predict the outcomes using the respective models.\n",
    "    For treated individuals: Y^0(X).\n",
    "    For control individuals: Y^1(X).\n",
    "3. Estimate Treatment Effects:\n",
    "    Computer the treatment effect for each individual as the difference between the two predicted outcomes: τ(X) =Y^1(X)-Y^0(X)"
   ]
  },
  {
   "cell_type": "markdown",
   "metadata": {},
   "source": [
    "## T-learner Model Training"
   ]
  },
  {
   "cell_type": "markdown",
   "metadata": {},
   "source": [
    "Two models are trained: one on the treated group (using RandomForestRegressor) and one on the control group (using GradientBoostingRegressor)."
   ]
  },
  {
   "cell_type": "code",
   "execution_count": 12,
   "metadata": {
    "pycharm": {
     "name": "#%%\n"
    }
   },
   "outputs": [],
   "source": [
    "from sklearn.ensemble import RandomForestRegressor, GradientBoostingRegressor\n",
    "\n",
    "# Feature matrices and outcome vectors\n",
    "X_treated = treated_data[covariate_cols]\n",
    "Y_treated = treated_data[outcome_col]\n",
    "X_control = control_data[covariate_cols]\n",
    "Y_control = control_data[outcome_col]"
   ]
  },
  {
   "cell_type": "code",
   "execution_count": 13,
   "metadata": {
    "pycharm": {
     "name": "#%%\n"
    }
   },
   "outputs": [],
   "source": [
    "# Train the T-learner models\n",
    "model_treated = RandomForestRegressor(n_estimators=100, random_state=42)\n",
    "model_control = GradientBoostingRegressor(n_estimators=100, random_state=42)"
   ]
  },
  {
   "cell_type": "code",
   "execution_count": 14,
   "metadata": {
    "pycharm": {
     "name": "#%%\n"
    }
   },
   "outputs": [
    {
     "data": {
      "text/plain": [
       "GradientBoostingRegressor(random_state=42)"
      ]
     },
     "execution_count": 14,
     "metadata": {},
     "output_type": "execute_result"
    }
   ],
   "source": [
    "model_treated.fit(X_treated, Y_treated)\n",
    "model_control.fit(X_control, Y_control)"
   ]
  },
  {
   "cell_type": "markdown",
   "metadata": {},
   "source": [
    "Predictions for outcomes are made for all individuals using both models. The difference between these predictions gives the estimated CATE for each individual."
   ]
  },
  {
   "cell_type": "code",
   "execution_count": 15,
   "metadata": {
    "pycharm": {
     "name": "#%%\n"
    }
   },
   "outputs": [],
   "source": [
    "# Predict outcomes for all individuals under both treatment and control\n",
    "X_all = data[covariate_cols]\n",
    "pred_treated = model_treated.predict(X_all)\n",
    "pred_control = model_control.predict(X_all)"
   ]
  },
  {
   "cell_type": "code",
   "execution_count": 16,
   "metadata": {
    "pycharm": {
     "name": "#%%\n"
    }
   },
   "outputs": [],
   "source": [
    "predictions = pred_treated - pred_control\n"
   ]
  },
  {
   "cell_type": "markdown",
   "metadata": {},
   "source": [
    "The CATE predictions are filtered to focus on urban students. The average CATE for urban students is calculated and printed."
   ]
  },
  {
   "cell_type": "code",
   "execution_count": 17,
   "metadata": {
    "pycharm": {
     "name": "#%%\n"
    }
   },
   "outputs": [],
   "source": [
    "# Filter CATE for urban students\n",
    "urban_students = data['SchoolUrbanicity'] = 4\n",
    "urban_students_predictions = predictions[urban_students]"
   ]
  },
  {
   "cell_type": "code",
   "execution_count": 18,
   "metadata": {
    "pycharm": {
     "name": "#%%\n"
    }
   },
   "outputs": [
    {
     "name": "stdout",
     "output_type": "stream",
     "text": [
      "Average CATE for Urban Students: 0.20\n"
     ]
    }
   ],
   "source": [
    "# Calculate and print the average CATE for urban students\n",
    "CATE_urban_T_LEARNER = urban_students_predictions.mean()\n",
    "print(f\"Average CATE for Urban Students: {CATE_urban_T_LEARNER:.2f}\")"
   ]
  },
  {
   "cell_type": "markdown",
   "metadata": {},
   "source": [
    "A bar plot is created to compare the average CATE for urban students between the S-learner and T-learner models."
   ]
  },
  {
   "cell_type": "code",
   "execution_count": 19,
   "metadata": {
    "pycharm": {
     "name": "#%%\n"
    }
   },
   "outputs": [
    {
     "data": {
      "image/png": "[encoded data removed]",
      "text/plain": [
       "<Figure size 576x432 with 1 Axes>"
      ]
     },
     "metadata": {
      "needs_background": "light"
     },
     "output_type": "display_data"
    }
   ],
   "source": [
    "# To plot there predictions comparatively\n",
    "import matplotlib.pyplot as plt\n",
    "# Plot the average CATE for urban students\n",
    "labels = ['S-learner', 'T-learner']\n",
    "average_CATE_values = [CATE_Urban_S_LEARNER, CATE_urban_T_LEARNER]\n",
    "plt.figure(figsize=(8, 6))\n",
    "plt.bar(labels, average_CATE_values, color=['blue', 'green'])\n",
    "plt.xlabel('Learner Type')\n",
    "plt.ylabel('Average CATE for Urban Students')\n",
    "plt.title('Average CATE for Urban Students by Learner Type')\n",
    "plt.show()"
   ]
  },
  {
   "cell_type": "markdown",
   "metadata": {},
   "source": [
    "##  Cross-Validation for Performance Evaluation"
   ]
  },
  {
   "cell_type": "markdown",
   "metadata": {},
   "source": [
    "KFold cross-validation with 5 splits is set up to evaluate the models' performance. Lists are initialized to store the MSE results for both learners."
   ]
  },
  {
   "cell_type": "code",
   "execution_count": 28,
   "metadata": {
    "pycharm": {
     "name": "#%%\n"
    }
   },
   "outputs": [],
   "source": [
    "# Initialize KFold cross-validator\n",
    "from sklearn.model_selection import cross_val_score, KFold\n",
    "from sklearn.metrics import mean_squared_error\n",
    "kf = KFold(n_splits=5, shuffle=True, random_state=42)"
   ]
  },
  {
   "cell_type": "code",
   "execution_count": 29,
   "metadata": {
    "pycharm": {
     "name": "#%%\n"
    }
   },
   "outputs": [],
   "source": [
    "# Initialize lists to store results\n",
    "s_learner_mse = []\n",
    "t_learner_mse = []"
   ]
  },
  {
   "cell_type": "code",
   "execution_count": 30,
   "metadata": {
    "pycharm": {
     "name": "#%%\n"
    }
   },
   "outputs": [
    {
     "name": "stdout",
     "output_type": "stream",
     "text": [
      "Train indices: [    1     2     4 ... 10387 10388 10390], Test indices: [    0     3     8 ... 10380 10384 10389]\n",
      "Train indices: [    0     1     2 ... 10388 10389 10390], Test indices: [   12    17    26 ... 10370 10376 10385]\n",
      "Train indices: [    0     1     3 ... 10388 10389 10390], Test indices: [    2    15    27 ... 10371 10381 10387]\n",
      "Train indices: [    0     1     2 ... 10387 10388 10389], Test indices: [    6     7    18 ... 10383 10386 10390]\n",
      "Train indices: [    0     2     3 ... 10387 10389 10390], Test indices: [    1     4     5 ... 10378 10379 10388]\n"
     ]
    }
   ],
   "source": [
    "for train_index, test_index in kf.split(data):\n",
    "    print(f'Train indices: {train_index}, Test indices: {test_index}')"
   ]
  },
  {
   "cell_type": "markdown",
   "metadata": {},
   "source": [
    "For each fold, both S-learner and T-learner models are trained and predictions are made. The Mean Squared Error (MSE) between the predicted and actual outcomes is calculated and recorded for each model."
   ]
  },
  {
   "cell_type": "code",
   "execution_count": 41,
   "metadata": {
    "pycharm": {
     "name": "#%%\n"
    }
   },
   "outputs": [],
   "source": [
    "# Cross-validation loop\n",
    "for train_index, test_index in kf.split(data):\n",
    "\n",
    "    train_data = data.iloc[train_index]\n",
    "    test_data = data.iloc[test_index]\n",
    "\n",
    "    # S-learner model\n",
    "    model_s_learner = RandomForestRegressor(n_estimators=100, random_state=42)\n",
    "    X_train_s = pd.concat([train_data[covariate_cols], train_data[[treatment_col]]], axis=1)\n",
    "    Y_train_s = train_data[outcome_col]\n",
    "    X_test_s = pd.concat([test_data[covariate_cols], test_data[[treatment_col]]], axis=1)\n",
    "    Y_test_s = test_data[outcome_col]\n",
    "\n",
    "    model_s_learner.fit(X_train_s, Y_train_s)\n",
    "\n",
    "    X_control_s = X_test_s.copy()\n",
    "    X_control_s[treatment_col] = 0\n",
    "    pred_0_s = model_s_learner.predict(X_control_s)\n",
    "\n",
    "    X_treatment_s = X_test_s.copy()\n",
    "    X_treatment_s[treatment_col] = 1\n",
    "    pred_1_s = model_s_learner.predict(X_treatment_s)\n",
    "\n",
    "    s_learner_predictions = pred_1_s - pred_0_s\n",
    "    s_learner_mse.append(mean_squared_error(Y_test_s, s_learner_predictions))\n",
    "\n",
    "    # T-learner model\n",
    "    model_treated = RandomForestRegressor(n_estimators=100, random_state=42)\n",
    "    model_control = GradientBoostingRegressor(n_estimators=100, random_state=42)\n",
    "\n",
    "    X_treated_train = train_data[train_data[treatment_col] == 1][covariate_cols]\n",
    "    Y_treated_train = train_data[train_data[treatment_col] == 1][outcome_col]\n",
    "    X_control_train = train_data[train_data[treatment_col] == 0][covariate_cols]\n",
    "    Y_control_train = train_data[train_data[treatment_col] == 0][outcome_col]\n",
    "\n",
    "    model_treated.fit(X_treated_train, Y_treated_train)\n",
    "    model_control.fit(X_control_train, Y_control_train)\n",
    "\n",
    "    X_test = test_data[covariate_cols]\n",
    "    pred_treated = model_treated.predict(X_test)\n",
    "    pred_control = model_control.predict(X_test)\n",
    "\n",
    "    t_learner_predictions = pred_treated - pred_control\n",
    "    t_learner_mse.append(mean_squared_error(Y_test_s, t_learner_predictions))"
   ]
  },
  {
   "cell_type": "code",
   "execution_count": 42,
   "metadata": {
    "pycharm": {
     "name": "#%%\n"
    }
   },
   "outputs": [
    {
     "name": "stdout",
     "output_type": "stream",
     "text": [
      "[0.6665206610517551, 0.6450881696442995, 0.6828435707220557, 0.6072063139960513, 0.6741074188544497, 0.6665206610517551, 0.6450881696442995, 0.6828435707220557, 0.6072063139960513, 0.6741074188544497, 0.6665206610517551, 0.6450881696442995, 0.6828435707220557, 0.6072063139960513, 0.6741074188544497]\n",
      "[0.6021710123185599, 0.5748144051244656, 0.621912210991378, 0.540066143898449, 0.5987781912288774, 0.5621205909945061, 0.5116276671683634, 0.5685250043132689, 0.4988681695965773, 0.5434686156863544, 0.6021710123185599, 0.5748144051244656, 0.621912210991378, 0.540066143898449, 0.5987781912288774]\n"
     ]
    }
   ],
   "source": [
    "print(s_learner_mse)\n",
    "print(t_learner_mse)"
   ]
  },
  {
   "cell_type": "code",
   "execution_count": 43,
   "metadata": {
    "pycharm": {
     "name": "#%%\n"
    }
   },
   "outputs": [
    {
     "name": "stdout",
     "output_type": "stream",
     "text": [
      "Average MSE for S-learner: 0.6552\n",
      "Average MSE for T-learner: 0.5707\n"
     ]
    }
   ],
   "source": [
    "import numpy as np\n",
    "# Calculate the average MSE for each learner\n",
    "average_s_learner_mse = np.mean(s_learner_mse)\n",
    "average_t_learner_mse = np.mean(t_learner_mse)\n",
    "print(f\"Average MSE for S-learner: {average_s_learner_mse:.4f}\")\n",
    "print(f\"Average MSE for T-learner: {average_t_learner_mse:.4f}\")"
   ]
  },
  {
   "cell_type": "code",
   "execution_count": 44,
   "metadata": {
    "pycharm": {
     "name": "#%%\n"
    }
   },
   "outputs": [
    {
     "data": {
      "image/png": "[encoded data removed]",
      "text/plain": [
       "<Figure size 576x432 with 1 Axes>"
      ]
     },
     "metadata": {
      "needs_background": "light"
     },
     "output_type": "display_data"
    }
   ],
   "source": [
    "# Plot the average CATE for urban students\n",
    "labels = ['S-learner', 'T-learner']\n",
    "average_CATE_values = [CATE_Urban_S_LEARNER, CATE_urban_T_LEARNER]\n",
    "plt.figure(figsize=(8, 6))\n",
    "plt.bar(labels, average_CATE_values, color=['blue', 'green'])\n",
    "plt.xlabel('Learner Type')\n",
    "plt.ylabel('Average CATE for Urban Students')\n",
    "plt.title('Average CATE for Urban Students by Learner Type')\n",
    "plt.show()\n"
   ]
  },
  {
   "cell_type": "markdown",
   "metadata": {
    "pycharm": {
     "name": "#%%\n"
    }
   },
   "source": [
    "# X-Learner"
   ]
  },
  {
   "cell_type": "markdown",
   "metadata": {},
   "source": [
    "The X-Learner is an advanced method for estimating Conditional Average Treatment Effects (CATE) in observational studies. It combines the strengths of T-Learners and S-Learners to improve robustness and accuracy, especially when the treatment and control groups are imbalanced.\n",
    "\n",
    "### X-Learner Algorithm Steps:\n",
    "1. Fit Separate Models:\n",
    "    Fit two separate models: one for the treated group (𝑇=1) and one for the control group (𝑇=0).\n",
    "    Let 𝑌^1(𝑋) and 𝑌^0(X) be the predicted outcomes from these models.\n",
    "2. Impute Treatment Effects:\n",
    "    For each treated individual, impute the counterfactual outcome if they had not been treated using the control group model:𝑌^0(X).\n",
    "    For each control individual, impute the counterfactual outcome if they had been treated using the treated group model: 𝑌^1(X).\n",
    "3. Estimate Treatment Effects:\n",
    "    For the treated group, compute the treatment effect as 𝐷1=Y1-Y^0(X)\n",
    "    For the control group, compute the treatment effect as D0=Y^1(X) -Y0\n",
    "4. Fit Secondary Models:\n",
    "    Fit two new models to predict D1 and D0 using the covariates X.\n",
    "5. Combine Predictions:\n",
    "    Combine the predictions from the secondary models, weighting them by the propensity scores or using some other method to average the treatment effect predictions for the entire population."
   ]
  },
  {
   "cell_type": "code",
   "execution_count": 57,
   "metadata": {},
   "outputs": [
    {
     "name": "stdout",
     "output_type": "stream",
     "text": [
      "X-Learner MSE: 0.557344926776508\n"
     ]
    }
   ],
   "source": [
    "from sklearn.ensemble import RandomForestRegressor, GradientBoostingRegressor\n",
    "from sklearn.model_selection import KFold\n",
    "from sklearn.metrics import mean_squared_error\n",
    "import pandas as pd\n",
    "import numpy as np\n",
    "\n",
    "# Assuming data is a pandas DataFrame and the necessary columns are defined\n",
    "kf = KFold(n_splits=5, shuffle=True, random_state=42)\n",
    "\n",
    "x_learner_mse = []\n",
    "\n",
    "for train_index, test_index in kf.split(data):\n",
    "    train_data = data.iloc[train_index]\n",
    "    test_data = data.iloc[test_index]\n",
    "\n",
    "    # Step 1: Fit separate models for treated and control groups\n",
    "    model_treated = RandomForestRegressor(n_estimators=100, random_state=42)\n",
    "    model_control = RandomForestRegressor(n_estimators=100, random_state=42)\n",
    "\n",
    "    X_treated_train = train_data[train_data[treatment_col] == 1][covariate_cols]\n",
    "    Y_treated_train = train_data[train_data[treatment_col] == 1][outcome_col]\n",
    "    X_control_train = train_data[train_data[treatment_col] == 0][covariate_cols]\n",
    "    Y_control_train = train_data[train_data[treatment_col] == 0][outcome_col]\n",
    "\n",
    "    model_treated.fit(X_treated_train, Y_treated_train)\n",
    "    model_control.fit(X_control_train, Y_control_train)\n",
    "\n",
    "    # Step 2: Impute treatment effects\n",
    "    X_control_test = test_data[test_data[treatment_col] == 0][covariate_cols]\n",
    "    Y_control_test = test_data[test_data[treatment_col] == 0][outcome_col]\n",
    "    X_treated_test = test_data[test_data[treatment_col] == 1][covariate_cols]\n",
    "    Y_treated_test = test_data[test_data[treatment_col] == 1][outcome_col]\n",
    "\n",
    "    imputed_te_control = model_treated.predict(X_control_test) - Y_control_test\n",
    "    imputed_te_treated = Y_treated_test - model_control.predict(X_treated_test)\n",
    "\n",
    "    # Step 3: Train imputation models\n",
    "    model_impute_control = GradientBoostingRegressor(n_estimators=100, random_state=42)\n",
    "    model_impute_treated = GradientBoostingRegressor(n_estimators=100, random_state=42)\n",
    "\n",
    "    # Note: imputed_te_control and imputed_te_treated need to be the same length as X_control_train and X_treated_train respectively\n",
    "    model_impute_control.fit(X_control_test, imputed_te_control)\n",
    "    model_impute_treated.fit(X_treated_test, imputed_te_treated)\n",
    "\n",
    "    # Step 4: Predict treatment effects for the test set\n",
    "    X_test = test_data[covariate_cols]\n",
    "    pred_te_control = model_impute_control.predict(X_test)\n",
    "    pred_te_treated = model_impute_treated.predict(X_test)\n",
    "\n",
    "    # Combine predictions\n",
    "    treatment_proba = test_data[treatment_col].mean()\n",
    "    x_learner_predictions = treatment_proba * pred_te_treated + (1 - treatment_proba) * pred_te_control\n",
    "    \n",
    "    \n",
    "    # Calculate and store the MSE\n",
    "    Y_test = test_data[outcome_col]\n",
    "    x_learner_mse.append(mean_squared_error(Y_test, x_learner_predictions))\n",
    "\n",
    "print(\"X-Learner MSE:\", np.mean(x_learner_mse))"
   ]
  },
  {
   "cell_type": "markdown",
   "metadata": {},
   "source": [
    "## R-Learner"
   ]
  },
  {
   "cell_type": "markdown",
   "metadata": {},
   "source": [
    "The R-Learner is another meta-learning approach for estimating the Conditional Average Treatment Effect (CATE) that leverages the residuals from outcome and treatment models."
   ]
  },
  {
   "cell_type": "markdown",
   "metadata": {},
   "source": [
    "### R-Learner Algorithm Steps:\n",
    "1. Estimate Propensity Scores\n",
    "    Estimate the propensity scores, which are the probabilities of receiving treatment, using a logistic regression model. This helps in balancing the covariates between the treated and control groups.\n",
    "        Fit a logistic regression model to the covariates 𝑋 to predict the treatment indicator 𝑇.\n",
    "        Obtain the propensity scores 𝑒^(𝑋), which are the predicted probabilities of receiving the treatment.\n",
    "2.  Fit Outcome Models and Compute Residuals\n",
    "    Fit an outcome model to predict the outcomes for both treated and control groups. Compute the residuals by subtracting the predicted outcomes from the actual outcomes. These residuals represent the part of the outcome that is not explained by the covariates.\n",
    "        Fit an outcome model to predict the outcome 𝑌 using the covariates 𝑋.\n",
    "        Predict the outcomes 𝑌^(𝑋)using the fitted model.\n",
    "        Compute the residuals 𝜖 by subtracting the predicted outcomes from the actual outcomes: ϵ=Y− Y^(X).\n",
    "3. Calculate the Residualized Treatment Effect\n",
    "   Calculate the residualized treatment effect using the residuals and the propensity scores. This involves computing the difference between the treatment indicator and the propensity scores, and then normalizing the residuals by this difference.\n",
    "        Compute the residualized treatment indicator 𝑊 as the difference between the treatment indicator and the propensity scores: W=T− e^(X).\n",
    "        Calculate the residualized treatment effect 𝑍 by normalizing the residuals by 𝑊:Z=ϵ/W.\n",
    "4. Fit the Residualized Treatment Effect Model\n",
    "   Fit a model to predict the residualized treatment effect using the covariates. This model helps in estimating how the treatment effect varies with the covariates.\n",
    "        Fit a model to the residualized treatment effect 𝑍 using the covariates 𝑋. This model aims to predict 𝑍 based on 𝑋.\n",
    "    \n",
    "5. Estimate the Conditional Average Treatment Effect (CATE)\n",
    "   Use the fitted model to estimate the CATE for the entire population. The CATE estimates represent the expected difference in outcomes between treated and control groups, conditional on the covariates.\n",
    "        Use the fitted residualized treatment effect model to predict the CATE for the entire population.\n",
    "        The CATE estimates τ(X) represent the expected difference in outcomes between the treated and control groups, conditional on the covariates 𝑋."
   ]
  },
  {
   "cell_type": "code",
   "execution_count": null,
   "metadata": {},
   "outputs": [],
   "source": []
  }
 ],
 "metadata": {
  "kernelspec": {
   "display_name": "PyCharm (pythonProject)",
   "language": "python",
   "name": "pycharm-1efd4ea5"
  },
  "language_info": {
   "codemirror_mode": {
    "name": "ipython",
    "version": 3
   },
   "file_extension": ".py",
   "mimetype": "text/x-python",
   "name": "python",
   "nbconvert_exporter": "python",
   "pygments_lexer": "ipython3",
   "version": "3.9.7"
  }
 },
 "nbformat": 4,
 "nbformat_minor": 1
}
