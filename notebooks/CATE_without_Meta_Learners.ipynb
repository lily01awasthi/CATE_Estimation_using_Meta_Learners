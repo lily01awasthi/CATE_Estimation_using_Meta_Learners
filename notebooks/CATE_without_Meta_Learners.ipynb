{
 "cells": [
  {
   "cell_type": "markdown",
   "metadata": {},
   "source": [
    "## Propensity Score Matching \n",
    "In Propensity Score Matching (PSM), we aim to estimate the Conditional Average Treatment Effect (CATE) — the effect of a treatment (e.g., a mindset intervention) on individuals based on their characteristics (covariates)\n",
    "Define the Problem:\n",
    "\n",
    "* Treatment: Whether a student received the intervention (1 = Yes, 0 = No).\n",
    "* Outcome: What we want to measure (e.g., test score improvement).\n",
    "* Covariates: Characteristics like age, gender, and prior performance that may influence both treatment and outcome.\n",
    "\n",
    "Example: Alice received the treatment, her test score improved by 10 points. Bob did not receive the treatment, his score improved by 5 points.\n",
    "\n",
    "## Estimate Propensity Scores:\n",
    "We use logistic regression to estimate the probability (propensity score) that each student receives the treatment based on their covariates.\n",
    "\n",
    "Example: Alice has a high propensity score (e.g., 0.85), and Bob has a low score (e.g., 0.25).\n",
    "\n",
    "### Matching:\n",
    "We match treated students (like Alice) with control students (like Charlie) who have similar propensity scores (e.g., Charlie’s score is 0.82, but he didn’t receive the treatment).\n",
    "\n",
    "This helps compare students who are similar except for whether they got the treatment.\n",
    "\n",
    "### Estimate CATE:\n",
    "For each matched pair, we calculate the difference in outcomes. Example: Alice’s test score improved by 10 points, and Charlie’s improved by 7. So, the treatment effect for Alice is 10 - 7 = 3points.\n",
    "We do this for all matched pairs and take the average to get the overall CATE.\n",
    "\n",
    "Example: If other students had treatment effects of 2 and 4 points, the average CATE might be:\n",
    "\n",
    "Average CATE= (3+2+4)/3 = 3\n",
    "\n",
    "This means, on average, the intervention increased test score improvements by 3 points."
   ]
  },
  {
   "cell_type": "markdown",
   "metadata": {},
   "source": [
    "To estimate the Conditional Average Treatment Effect (CATE) using Propensity Score Matching (PSM) on the the synthetic data regarding mindsets of student:\n",
    "\n",
    "    * Preprocess the data (loading and handling covariates).\n",
    "    * Estimate the propensity scores using logistic regression.\n",
    "    * Perform Propensity Score Matching (PSM) using nearest-neighbor matching.\n",
    "    * Estimate the CATE by comparing the outcomes of matched treated and control groups"
   ]
  },
  {
   "cell_type": "code",
   "execution_count": 6,
   "metadata": {},
   "outputs": [
    {
     "name": "stdout",
     "output_type": "stream",
     "text": [
      "CATE for each individual:0      -0.087619\n",
      "1       0.332323\n",
      "2       0.439673\n",
      "3      -0.133548\n",
      "4       0.513476\n",
      "          ...   \n",
      "3379    0.546582\n",
      "3380    0.040908\n",
      "3381   -0.295373\n",
      "3382   -0.163854\n",
      "3383    0.022409\n",
      "Name: Y, Length: 3384, dtype: float64\n",
      "Estimated CATE: 0.2558249286643359\n"
     ]
    },
    {
     "name": "stderr",
     "output_type": "stream",
     "text": [
      "c:\\Users\\dell\\OneDrive\\Desktop\\Thesis\\CATE_Estimation_using_Meta_Learners\\venv\\lib\\site-packages\\sklearn\\linear_model\\_logistic.py:460: ConvergenceWarning: lbfgs failed to converge (status=1):\n",
      "STOP: TOTAL NO. of ITERATIONS REACHED LIMIT.\n",
      "\n",
      "Increase the number of iterations (max_iter) or scale the data as shown in:\n",
      "    https://scikit-learn.org/stable/modules/preprocessing.html\n",
      "Please also refer to the documentation for alternative solver options:\n",
      "    https://scikit-learn.org/stable/modules/linear_model.html#logistic-regression\n",
      "  n_iter_i = _check_optimize_result(\n"
     ]
    },
    {
     "data": {
      "image/png": "[encoded data removed]",
      "text/plain": [
       "<Figure size 640x480 with 1 Axes>"
      ]
     },
     "metadata": {},
     "output_type": "display_data"
    }
   ],
   "source": [
    "import pandas as pd\n",
    "import numpy as np\n",
    "from sklearn.linear_model import LogisticRegression\n",
    "from sklearn.neighbors import NearestNeighbors\n",
    "\n",
    "# Load the dataset\n",
    "data = pd.read_csv('../data/dataset.csv')\n",
    "\n",
    "# Define the treatment, covariates, and outcome\n",
    "# Assuming 'treatment' is the column representing the intervention, 'outcome' is the effect we're measuring, and other columns are covariates.\n",
    "treatment_col = 'Z'  \n",
    "outcome_col = 'Y' \n",
    "\n",
    "# Define covariates (excluding the treatment and outcome columns)\n",
    "covariates = data.drop(columns=[treatment_col, outcome_col])\n",
    "\n",
    "# Step 1: Estimate the propensity score using logistic regression\n",
    "logistic_model = LogisticRegression()\n",
    "logistic_model.fit(covariates, data[treatment_col])\n",
    "\n",
    "# Predict the propensity scores\n",
    "data['propensity_score'] = logistic_model.predict_proba(covariates)[:, 1]\n",
    "\n",
    "# Step 2: Perform Propensity Score Matching (PSM) - Nearest Neighbor Matching\n",
    "# Separate the treated and control groups\n",
    "treated = data[data[treatment_col] == 1]\n",
    "control = data[data[treatment_col] == 0]\n",
    "\n",
    "# Matching on the propensity score\n",
    "# Find nearest neighbors in control group for each treated individual\n",
    "nn = NearestNeighbors(n_neighbors=1)\n",
    "nn.fit(control[['propensity_score']])\n",
    "distances, indices = nn.kneighbors(treated[['propensity_score']])\n",
    "\n",
    "# Step 3: Match treated individuals with control individuals based on nearest neighbors\n",
    "matched_control = control.iloc[indices.flatten()]\n",
    "\n",
    "# Step 4: Estimate CATE\n",
    "# Calculate the difference in the outcome between matched treated and control individuals \n",
    "# The condition for this CATE is that the treated and control individuals have similar characteristics \n",
    "# (covariates) based on their propensity scores\n",
    "cate = treated[outcome_col].reset_index(drop=True) - matched_control[outcome_col].reset_index(drop=True)\n",
    "\n",
    "print(f\"CATE for each individual:{cate}\")\n",
    "# Print the average CATE\n",
    "average_cate = cate.mean()\n",
    "print(f\"Estimated CATE: {average_cate}\")\n",
    "\n",
    "# Optionally: Explore the distribution of the individual treatment effects\n",
    "import matplotlib.pyplot as plt\n",
    "plt.hist(cate, bins=20, edgecolor='k', alpha=0.7)\n",
    "plt.title('Distribution of Individual Treatment Effects (CATE)')\n",
    "plt.xlabel('Treatment Effect')\n",
    "plt.ylabel('Frequency')\n",
    "plt.show()\n"
   ]
  },
  {
   "cell_type": "code",
   "execution_count": null,
   "metadata": {},
   "outputs": [],
   "source": []
  }
 ],
 "metadata": {
  "kernelspec": {
   "display_name": "venv",
   "language": "python",
   "name": "python3"
  },
  "language_info": {
   "codemirror_mode": {
    "name": "ipython",
    "version": 3
   },
   "file_extension": ".py",
   "mimetype": "text/x-python",
   "name": "python",
   "nbconvert_exporter": "python",
   "pygments_lexer": "ipython3",
   "version": "3.8.8"
  }
 },
 "nbformat": 4,
 "nbformat_minor": 2
}
