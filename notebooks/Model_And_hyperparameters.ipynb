{
 "cells": [
  {
   "cell_type": "markdown",
   "metadata": {},
   "source": [
    "# Loading and preprocessing"
   ]
  },
  {
   "cell_type": "code",
   "execution_count": 25,
   "metadata": {},
   "outputs": [
    {
     "name": "stdout",
     "output_type": "stream",
     "text": [
      "   schoolid  Z         Y  S3  C1  C2  C3  XC        X1        X2        X3  \\\n",
      "0        76  1  0.081602   6   4   2   1   4  0.334544  0.648586 -1.310927   \n",
      "1        76  1 -0.385869   4  12   2   1   4  0.334544  0.648586 -1.310927   \n",
      "2        76  1  0.398184   6   4   2   0   4  0.334544  0.648586 -1.310927   \n",
      "3        76  1 -0.175037   6   4   2   0   4  0.334544  0.648586 -1.310927   \n",
      "4        76  1  0.884583   6   4   1   0   4  0.334544  0.648586 -1.310927   \n",
      "\n",
      "         X4        X5  \n",
      "0  0.224077 -0.426757  \n",
      "1  0.224077 -0.426757  \n",
      "2  0.224077 -0.426757  \n",
      "3  0.224077 -0.426757  \n",
      "4  0.224077 -0.426757  \n"
     ]
    }
   ],
   "source": [
    "import pandas as pd\n",
    "from sklearn.model_selection import train_test_split\n",
    "from sklearn.preprocessing import StandardScaler\n",
    "\n",
    "# Load the dataset\n",
    "dataset = pd.read_csv('../data/dataset.csv')\n",
    "print(dataset.head())"
   ]
  },
  {
   "cell_type": "code",
   "execution_count": 26,
   "metadata": {},
   "outputs": [],
   "source": [
    "# Columns are renamed to more descriptive names for clarity.\n",
    "data = dataset.rename(columns={\n",
    "        'Y': 'StudentAchievementScore',\n",
    "        'Z': 'GrowthMindsetIntervention',\n",
    "        'S3': 'FutureSuccessExpectations',\n",
    "        'C1': 'StudentRaceEthnicity',\n",
    "        'C2': 'StudentGender',\n",
    "        'C3': 'FirstGenCollegeStatus',\n",
    "        'XC': 'SchoolUrbanicity',\n",
    "        'X1': 'PreInterventionFixedMindset',\n",
    "        'X2': 'SchoolAchievementLevel',\n",
    "        'X3': 'SchoolMinorityComposition',\n",
    "        'X4': 'PovertyConcentration',\n",
    "        'X5': 'TotalStudentPopulation'\n",
    "    })"
   ]
  },
  {
   "cell_type": "code",
   "execution_count": 27,
   "metadata": {},
   "outputs": [],
   "source": [
    "# Define covariates, treatment, and outcome\n",
    "covariate_cols = ['S3', 'C1', 'C2', 'C3', 'XC', 'X1', 'X2', 'X3', 'X4', 'X5']\n",
    "treatment_col = 'Z'\n",
    "outcome_col = 'Y'"
   ]
  },
  {
   "cell_type": "markdown",
   "metadata": {},
   "source": [
    "# Split train and test data"
   ]
  },
  {
   "cell_type": "code",
   "execution_count": 28,
   "metadata": {},
   "outputs": [],
   "source": [
    "# Split the data into training and testing sets\n",
    "train_data, test_data = train_test_split(dataset, test_size=0.3, random_state=42)"
   ]
  },
  {
   "cell_type": "markdown",
   "metadata": {},
   "source": [
    "# Standardizing the Covariates\n"
   ]
  },
  {
   "cell_type": "markdown",
   "metadata": {},
   "source": [
    "Standardizing the Covariates\n",
    "The covariates (independent variables) are standardized to ensure that they are on a similar scale. Standardization is a preprocessing technique where each feature is transformed to have a mean of 0 and a standard deviation of 1. This is particularly important because covariates can vary widely in their ranges and units; some may span from 0 to 1000, while others might only vary between 0 and 1. If these variables are not standardized, those with larger ranges could disproportionately influence the model, leading to biased results.\n",
    "\n",
    "To standardize the data, the code uses StandardScaler from Scikit-Learn’s preprocessing module. The scaler first calculates the mean and standard deviation of each covariate using the training data. It then applies these statistics to transform both the training and testing data. The training data is transformed using fit_transform, which both calculates the necessary statistics and applies the transformation. The testing data is transformed using transform, which ensures that the same scaling applied to the training data is also applied to the testing data, preserving consistency."
   ]
  },
  {
   "cell_type": "code",
   "execution_count": 29,
   "metadata": {},
   "outputs": [
    {
     "name": "stderr",
     "output_type": "stream",
     "text": [
      "C:\\Users\\dell\\anaconda3\\lib\\site-packages\\pandas\\core\\indexing.py:1738: SettingWithCopyWarning: \n",
      "A value is trying to be set on a copy of a slice from a DataFrame.\n",
      "Try using .loc[row_indexer,col_indexer] = value instead\n",
      "\n",
      "See the caveats in the documentation: https://pandas.pydata.org/pandas-docs/stable/user_guide/indexing.html#returning-a-view-versus-a-copy\n",
      "  self._setitem_single_column(loc, value[:, i].tolist(), pi)\n",
      "C:\\Users\\dell\\anaconda3\\lib\\site-packages\\pandas\\core\\indexing.py:1738: SettingWithCopyWarning: \n",
      "A value is trying to be set on a copy of a slice from a DataFrame.\n",
      "Try using .loc[row_indexer,col_indexer] = value instead\n",
      "\n",
      "See the caveats in the documentation: https://pandas.pydata.org/pandas-docs/stable/user_guide/indexing.html#returning-a-view-versus-a-copy\n",
      "  self._setitem_single_column(loc, value[:, i].tolist(), pi)\n"
     ]
    }
   ],
   "source": [
    "scaler = StandardScaler()\n",
    "\n",
    "# Using .loc[] to ensure you're explicitly modifying the DataFrame\n",
    "train_data.loc[:, covariate_cols] = scaler.fit_transform(train_data.loc[:, covariate_cols])\n",
    "test_data.loc[:, covariate_cols] = scaler.transform(test_data.loc[:, covariate_cols])"
   ]
  },
  {
   "cell_type": "markdown",
   "metadata": {},
   "source": [
    "# parameter grid for each model"
   ]
  },
  {
   "cell_type": "code",
   "execution_count": 30,
   "metadata": {},
   "outputs": [],
   "source": [
    "from sklearn.model_selection import GridSearchCV\n",
    "from sklearn.ensemble import RandomForestRegressor, GradientBoostingRegressor, ExtraTreesRegressor, AdaBoostRegressor\n",
    "from sklearn.neural_network import MLPRegressor\n",
    "from sklearn.linear_model import Ridge, Lasso\n",
    "from sklearn.svm import SVR"
   ]
  },
  {
   "cell_type": "code",
   "execution_count": 31,
   "metadata": {},
   "outputs": [],
   "source": [
    "# Define the parameter grid for each model\n",
    "param_grids = {\n",
    "    'RandomForest': {\n",
    "        'model': RandomForestRegressor(),\n",
    "        'params': {\n",
    "            'n_estimators': [50, 100, 200],\n",
    "            'max_depth': [None, 10, 20],\n",
    "            'min_samples_split': [2, 5, 10]\n",
    "        }\n",
    "    },\n",
    "    'GradientBoosting': {\n",
    "        'model': GradientBoostingRegressor(),\n",
    "        'params': {\n",
    "            'n_estimators': [50, 100, 200],\n",
    "            'learning_rate': [0.01, 0.1, 0.2],\n",
    "            'max_depth': [3, 5, 7]\n",
    "        }\n",
    "    },\n",
    "    'NeuralNetwork': {\n",
    "        'model': MLPRegressor(max_iter=500),\n",
    "        'params': {\n",
    "            'hidden_layer_sizes': [(50,), (100,), (100, 100)],\n",
    "            'activation': ['relu', 'tanh'],\n",
    "            'solver': ['adam', 'sgd']\n",
    "        }\n",
    "    },\n",
    "    'Ridge': {\n",
    "        'model': Ridge(),\n",
    "        'params': {\n",
    "            'alpha': [0.1, 1.0, 10.0]\n",
    "        }\n",
    "    },\n",
    "    'Lasso': {\n",
    "        'model': Lasso(),\n",
    "        'params': {\n",
    "            'alpha': [0.1, 1.0, 10.0]\n",
    "        }\n",
    "    },\n",
    "    'SVR': {\n",
    "        'model': SVR(),\n",
    "        'params': {\n",
    "            'kernel': ['linear', 'rbf'],\n",
    "            'C': [0.1, 1.0, 10.0],\n",
    "            'epsilon': [0.1, 0.2, 0.5]\n",
    "        }\n",
    "    },\n",
    "    'ExtraTrees': {\n",
    "        'model': ExtraTreesRegressor(),\n",
    "        'params': {\n",
    "            'n_estimators': [50, 100, 200],\n",
    "            'max_depth': [None, 10, 20],\n",
    "            'min_samples_split': [2, 5, 10]\n",
    "        }\n",
    "    },\n",
    "    'AdaBoost': {\n",
    "        'model': AdaBoostRegressor(),\n",
    "        'params': {\n",
    "            'n_estimators': [50, 100, 200],\n",
    "            'learning_rate': [0.01, 0.1, 0.2]\n",
    "        }\n",
    "    }\n",
    "}"
   ]
  },
  {
   "cell_type": "markdown",
   "metadata": {},
   "source": [
    "# Grid Search CV"
   ]
  },
  {
   "cell_type": "code",
   "execution_count": 32,
   "metadata": {},
   "outputs": [],
   "source": [
    "import numpy as np\n",
    "def grid_search_cv(data, treatment_col, outcome_col, covariate_cols, model, params, meta_learner):\n",
    "    \"\"\"\n",
    "    Perform GridSearchCV for hyperparameter tuning and return the best model.\n",
    "    \"\"\"\n",
    "    X = data[covariate_cols + [treatment_col]]\n",
    "    y = data[outcome_col]\n",
    "\n",
    "    grid_search = GridSearchCV(estimator=model, param_grid=params, cv=5, scoring='neg_mean_squared_error', n_jobs=-1)\n",
    "    grid_search.fit(X, y)\n",
    "\n",
    "    print(f'Best parameters for {meta_learner} with {model.__class__.__name__}: {grid_search.best_params_}')\n",
    "\n",
    "    return grid_search.best_estimator_\n"
   ]
  },
  {
   "cell_type": "markdown",
   "metadata": {},
   "source": [
    "# Meta-Learners"
   ]
  },
  {
   "cell_type": "markdown",
   "metadata": {},
   "source": [
    "## s-Learner"
   ]
  },
  {
   "cell_type": "code",
   "execution_count": 33,
   "metadata": {},
   "outputs": [],
   "source": [
    "def s_learner(data, treatment_col, outcome_col, covariate_cols, model):\n",
    "    \"\"\"\n",
    "    Train an S-learner model to estimate CATE.\n",
    "    \"\"\"\n",
    "    X = data[covariate_cols + [treatment_col]]\n",
    "    y = data[outcome_col]\n",
    "    model.fit(X, y)\n",
    "    return model"
   ]
  },
  {
   "cell_type": "code",
   "execution_count": 34,
   "metadata": {},
   "outputs": [],
   "source": [
    "def t_learner(data, treatment_col, outcome_col, covariate_cols, model):\n",
    "    \"\"\"\n",
    "    Train a T-learner model to estimate CATE.\n",
    "    \"\"\"\n",
    "    treated = data[data[treatment_col] == 1]\n",
    "    control = data[data[treatment_col] == 0]\n",
    "    X_treated = treated[covariate_cols]\n",
    "    y_treated = treated[outcome_col]\n",
    "    X_control = control[covariate_cols]\n",
    "    y_control = control[outcome_col]\n",
    "    model_treated = model.fit(X_treated, y_treated)\n",
    "    model_control = model.fit(X_control, y_control)\n",
    "    return model_treated, model_control"
   ]
  },
  {
   "cell_type": "code",
   "execution_count": 35,
   "metadata": {},
   "outputs": [],
   "source": [
    "def x_learner(data, treatment_col, outcome_col, covariate_cols, model):\n",
    "    \"\"\"\n",
    "    Train an X-learner model to estimate CATE.\n",
    "    \"\"\"\n",
    "    treated = data[data[treatment_col] == 1]\n",
    "    control = data[data[treatment_col] == 0]\n",
    "    X_treated = treated[covariate_cols]\n",
    "    y_treated = treated[outcome_col]\n",
    "    X_control = control[covariate_cols]\n",
    "    y_control = control[outcome_col]\n",
    "    model_treated = model.fit(X_treated, y_treated)\n",
    "    model_control = model.fit(X_control, y_control)\n",
    "    treated_outcome = model_control.predict(X_treated)\n",
    "    control_outcome = model_treated.predict(X_control)\n",
    "    treatment_effect_treated = y_treated - treated_outcome\n",
    "    treatment_effect_control = control_outcome - y_control\n",
    "    model_treatment_effect_treated = model.fit(X_treated, treatment_effect_treated)\n",
    "    model_treatment_effect_control = model.fit(X_control, treatment_effect_control)\n",
    "    return model_treatment_effect_treated, model_treatment_effect_control"
   ]
  },
  {
   "cell_type": "code",
   "execution_count": 36,
   "metadata": {},
   "outputs": [],
   "source": [
    "from sklearn.linear_model import RidgeCV, LassoCV\n",
    "from sklearn.model_selection import cross_val_predict\n",
    "from sklearn.ensemble import RandomForestRegressor\n",
    "from sklearn.metrics import mean_squared_error\n",
    "import numpy as np\n",
    "\n",
    "def r_learner(data, treatment_col, outcome_col, covariate_cols, model):\n",
    "    \"\"\"\n",
    "    Train an improved R-learner model to estimate CATE with robust residual handling and regularization.\n",
    "    \n",
    "    Parameters:\n",
    "    - data: DataFrame containing the data\n",
    "    - treatment_col: Column name for the treatment variable\n",
    "    - outcome_col: Column name for the outcome variable\n",
    "    - covariate_cols: List of column names for covariates\n",
    "    - model: The base model to be used for predicting outcomes and treatment\n",
    "    - regularization: Type of regularization to use ('ridge' or 'lasso')\n",
    "    \n",
    "    Returns:\n",
    "    - tau_model: The trained model for estimating treatment effects\n",
    "    - y_model: The outcome model\n",
    "    - t_model: The treatment model\n",
    "    - y_residual: Residuals of the outcome model\n",
    "    - t_residual: Residuals of the treatment model\n",
    "    \"\"\"\n",
    "    X = data[covariate_cols]\n",
    "    T = data[treatment_col]\n",
    "    y = data[outcome_col]\n",
    "\n",
    "    # Fit outcome model\n",
    "    y_model = cross_val_predict(model, X, y, cv=5)\n",
    "    \n",
    "    # Fit treatment model\n",
    "    t_model = cross_val_predict(model, X, T, cv=5)\n",
    "    \n",
    "    # Calculate residuals\n",
    "    y_residual = y - y_model\n",
    "    t_residual = T - t_model\n",
    "    \n",
    "    # Regularization of residuals\n",
    "    t_residual_clipped = np.clip(t_residual, a_min=0.01, a_max=None)\n",
    "    y_residual = (y_residual - np.mean(y_residual)) / np.std(y_residual)\n",
    "    t_residual_clipped = (t_residual_clipped - np.mean(t_residual_clipped)) / np.std(t_residual_clipped)\n",
    "    \n",
    "    # Add a small constant to prevent division by zero\n",
    "    epsilon = 1e-3 * np.std(t_residual)\n",
    "    t_residual_regularized = t_residual_clipped + epsilon\n",
    "    \n",
    "#     # Use RidgeCV or LassoCV for additional regularization in the final model\n",
    "#     regularization = 'ridge'\n",
    "#     tau_model = RidgeCV(alphas=[0.1, 1.0, 10.0])\n",
    "    regularization = 'lasso'\n",
    "    tau_model = LassoCV(alphas=[0.1, 1.0, 10.0])\n",
    "    \n",
    "    \n",
    "    # Fit the treatment effect model\n",
    "    tau_model.fit(X, y_residual / t_residual_regularized)\n",
    "    \n",
    "    return tau_model, y_model, t_model, y_residual, t_residual\n"
   ]
  },
  {
   "cell_type": "markdown",
   "metadata": {},
   "source": [
    "# Evaluate model"
   ]
  },
  {
   "cell_type": "code",
   "execution_count": 37,
   "metadata": {},
   "outputs": [],
   "source": [
    "from sklearn.utils import resample\n",
    "\n",
    "def evaluate_emse(data, treatment_col, outcome_col, covariate_cols, model, meta_learner, n_bootstraps=100, n_splits=5):\n",
    "    \"\"\"\n",
    "    Evaluate the model using bootstrapping to approximate the EMSE.\n",
    "    \n",
    "    n_bootstraps: Number of bootstrap samples to generate\n",
    "    n_splits: Number of folds in cross-validation (for the inner MSE calculation)\n",
    "    \"\"\"\n",
    "    mse_list = []\n",
    "    \n",
    "    for _ in range(n_bootstraps):\n",
    "        # Create a bootstrapped sample\n",
    "        bootstrapped_data = resample(data, replace=True)\n",
    "        \n",
    "        # Evaluate the model using cross-validation on the bootstrapped sample\n",
    "        X = bootstrapped_data[covariate_cols + [treatment_col]]\n",
    "        y = bootstrapped_data[outcome_col]\n",
    "        \n",
    "        if meta_learner == 's':\n",
    "            predictions = model.predict(X)\n",
    "        elif meta_learner == 't':\n",
    "            treated, control = model\n",
    "            predictions_treated = treated.predict(bootstrapped_data[bootstrapped_data[treatment_col] == 1][covariate_cols])\n",
    "            predictions_control = control.predict(bootstrapped_data[bootstrapped_data[treatment_col] == 0][covariate_cols])\n",
    "            predictions = pd.concat([pd.Series(predictions_treated), pd.Series(predictions_control)], ignore_index=True)\n",
    "        elif meta_learner == 'x':\n",
    "            treated, control = model\n",
    "            predictions_treated = treated.predict(bootstrapped_data[bootstrapped_data[treatment_col] == 1][covariate_cols])\n",
    "            predictions_control = control.predict(bootstrapped_data[bootstrapped_data[treatment_col] == 0][covariate_cols])\n",
    "            predictions = pd.concat([pd.Series(predictions_treated), pd.Series(predictions_control)], ignore_index=True)\n",
    "        elif meta_learner == 'r':\n",
    "            tau_model, _, _, _, _ = model\n",
    "            predictions = tau_model.predict(bootstrapped_data[covariate_cols])\n",
    "        \n",
    "        mse = mean_squared_error(y, predictions)\n",
    "        mse_list.append(mse)\n",
    "    \n",
    "    # Calculate the EMSE as the mean of the MSEs from the bootstrapped samples\n",
    "    emse = np.mean(mse_list)\n",
    "    return emse\n"
   ]
  },
  {
   "cell_type": "markdown",
   "metadata": {},
   "source": [
    "# Find Baset parameters for each model"
   ]
  },
  {
   "cell_type": "markdown",
   "metadata": {},
   "source": [
    "## S-Learner"
   ]
  },
  {
   "cell_type": "code",
   "execution_count": 40,
   "metadata": {},
   "outputs": [
    {
     "name": "stdout",
     "output_type": "stream",
     "text": [
      "Best parameters for S-Learner with RandomForestRegressor: {'max_depth': 10, 'min_samples_split': 10, 'n_estimators': 200}\n",
      "Best parameters for T-Learner with RandomForestRegressor: {'max_depth': 10, 'min_samples_split': 10, 'n_estimators': 200}\n",
      "Best parameters for X-Learner with RandomForestRegressor: {'max_depth': 10, 'min_samples_split': 10, 'n_estimators': 100}\n",
      "Best parameters for R-Learner with RandomForestRegressor: {'max_depth': 10, 'min_samples_split': 10, 'n_estimators': 200}\n"
     ]
    },
    {
     "ename": "NameError",
     "evalue": "name 'enhanced_r_learner' is not defined",
     "output_type": "error",
     "traceback": [
      "\u001b[1;31m---------------------------------------------------------------------------\u001b[0m",
      "\u001b[1;31mNameError\u001b[0m                                 Traceback (most recent call last)",
      "\u001b[1;32m<ipython-input-40-2669b1af6525>\u001b[0m in \u001b[0;36m<module>\u001b[1;34m\u001b[0m\n\u001b[0;32m     19\u001b[0m \u001b[1;33m\u001b[0m\u001b[0m\n\u001b[0;32m     20\u001b[0m     \u001b[0mbest_model\u001b[0m \u001b[1;33m=\u001b[0m \u001b[0mgrid_search_cv\u001b[0m\u001b[1;33m(\u001b[0m\u001b[0mtrain_data\u001b[0m\u001b[1;33m,\u001b[0m \u001b[0mtreatment_col\u001b[0m\u001b[1;33m,\u001b[0m \u001b[0moutcome_col\u001b[0m\u001b[1;33m,\u001b[0m \u001b[0mcovariate_cols\u001b[0m\u001b[1;33m,\u001b[0m \u001b[0mconfig\u001b[0m\u001b[1;33m[\u001b[0m\u001b[1;34m'model'\u001b[0m\u001b[1;33m]\u001b[0m\u001b[1;33m,\u001b[0m \u001b[0mconfig\u001b[0m\u001b[1;33m[\u001b[0m\u001b[1;34m'params'\u001b[0m\u001b[1;33m]\u001b[0m\u001b[1;33m,\u001b[0m \u001b[1;34m'R-Learner'\u001b[0m\u001b[1;33m)\u001b[0m\u001b[1;33m\u001b[0m\u001b[1;33m\u001b[0m\u001b[0m\n\u001b[1;32m---> 21\u001b[1;33m     \u001b[0mr_model\u001b[0m\u001b[1;33m,\u001b[0m \u001b[0my_model\u001b[0m\u001b[1;33m,\u001b[0m \u001b[0mt_model\u001b[0m\u001b[1;33m,\u001b[0m \u001b[0my_residual\u001b[0m\u001b[1;33m,\u001b[0m \u001b[0mt_residual\u001b[0m \u001b[1;33m=\u001b[0m \u001b[0menhanced_r_learner\u001b[0m\u001b[1;33m(\u001b[0m\u001b[0mtrain_data\u001b[0m\u001b[1;33m,\u001b[0m \u001b[0mtreatment_col\u001b[0m\u001b[1;33m,\u001b[0m \u001b[0moutcome_col\u001b[0m\u001b[1;33m,\u001b[0m \u001b[0mcovariate_cols\u001b[0m\u001b[1;33m,\u001b[0m \u001b[0mbest_model\u001b[0m\u001b[1;33m)\u001b[0m\u001b[1;33m\u001b[0m\u001b[1;33m\u001b[0m\u001b[0m\n\u001b[0m\u001b[0;32m     22\u001b[0m     \u001b[0memse_r\u001b[0m \u001b[1;33m=\u001b[0m \u001b[0mevaluate_emse\u001b[0m\u001b[1;33m(\u001b[0m\u001b[0mtest_data\u001b[0m\u001b[1;33m,\u001b[0m \u001b[0mtreatment_col\u001b[0m\u001b[1;33m,\u001b[0m \u001b[0moutcome_col\u001b[0m\u001b[1;33m,\u001b[0m \u001b[0mcovariate_cols\u001b[0m\u001b[1;33m,\u001b[0m \u001b[1;33m(\u001b[0m\u001b[0mr_model\u001b[0m\u001b[1;33m,\u001b[0m \u001b[0my_model\u001b[0m\u001b[1;33m,\u001b[0m \u001b[0mt_model\u001b[0m\u001b[1;33m,\u001b[0m \u001b[0my_residual\u001b[0m\u001b[1;33m,\u001b[0m \u001b[0mt_residual\u001b[0m\u001b[1;33m)\u001b[0m\u001b[1;33m,\u001b[0m \u001b[1;34m'r'\u001b[0m\u001b[1;33m)\u001b[0m\u001b[1;33m\u001b[0m\u001b[1;33m\u001b[0m\u001b[0m\n\u001b[0;32m     23\u001b[0m     \u001b[0memse_results\u001b[0m\u001b[1;33m.\u001b[0m\u001b[0mappend\u001b[0m\u001b[1;33m(\u001b[0m\u001b[1;33m{\u001b[0m\u001b[1;34m'Meta-Learner'\u001b[0m\u001b[1;33m:\u001b[0m \u001b[1;34m'Enhanced R-Learner'\u001b[0m\u001b[1;33m,\u001b[0m \u001b[1;34m'Model'\u001b[0m\u001b[1;33m:\u001b[0m \u001b[0mmodel_name\u001b[0m\u001b[1;33m,\u001b[0m \u001b[1;34m'EMSE'\u001b[0m\u001b[1;33m:\u001b[0m \u001b[0memse_r\u001b[0m\u001b[1;33m}\u001b[0m\u001b[1;33m)\u001b[0m\u001b[1;33m\u001b[0m\u001b[1;33m\u001b[0m\u001b[0m\n",
      "\u001b[1;31mNameError\u001b[0m: name 'enhanced_r_learner' is not defined"
     ]
    }
   ],
   "source": [
    "from sklearn.metrics import mean_squared_error\n",
    "emse_results = []\n",
    "\n",
    "for model_name, config in param_grids.items():\n",
    "    best_model = grid_search_cv(train_data, treatment_col, outcome_col, covariate_cols, config['model'], config['params'], 'S-Learner')\n",
    "    s_model = s_learner(train_data, treatment_col, outcome_col, covariate_cols, best_model)\n",
    "    emse_s = evaluate_emse(test_data, treatment_col, outcome_col, covariate_cols, s_model, 's')\n",
    "    emse_results.append({'Meta-Learner': 'S-Learner', 'Model': model_name, 'EMSE': emse_s})\n",
    "\n",
    "    best_model = grid_search_cv(train_data, treatment_col, outcome_col, covariate_cols, config['model'], config['params'], 'T-Learner')\n",
    "    t_model_treated, t_model_control = t_learner(train_data, treatment_col, outcome_col, covariate_cols, best_model)\n",
    "    emse_t = evaluate_emse(test_data, treatment_col, outcome_col, covariate_cols, (t_model_treated, t_model_control), 't')\n",
    "    emse_results.append({'Meta-Learner': 'T-Learner', 'Model': model_name, 'EMSE': emse_t})\n",
    "\n",
    "    best_model = grid_search_cv(train_data, treatment_col, outcome_col, covariate_cols, config['model'], config['params'], 'X-Learner')\n",
    "    x_model_treated, x_model_control = x_learner(train_data, treatment_col, outcome_col, covariate_cols, best_model)\n",
    "    emse_x = evaluate_emse(test_data, treatment_col, outcome_col, covariate_cols, (x_model_treated, x_model_control), 'x')\n",
    "    emse_results.append({'Meta-Learner': 'X-Learner', 'Model': model_name, 'EMSE': emse_x})\n",
    "\n",
    "    best_model = grid_search_cv(train_data, treatment_col, outcome_col, covariate_cols, config['model'], config['params'], 'R-Learner')\n",
    "    r_model, y_model, t_model, y_residual, t_residual = enhanced_r_learner(train_data, treatment_col, outcome_col, covariate_cols, best_model)\n",
    "    emse_r = evaluate_emse(test_data, treatment_col, outcome_col, covariate_cols, (r_model, y_model, t_model, y_residual, t_residual), 'r')\n",
    "    emse_results.append({'Meta-Learner': 'R-Learner', 'Model': model_name, 'EMSE': emse_r})\n",
    "\n",
    "emse_df = pd.DataFrame(emse_results)\n"
   ]
  },
  {
   "cell_type": "markdown",
   "metadata": {},
   "source": [
    "## Plot the EMSE Results\n"
   ]
  },
  {
   "cell_type": "code",
   "execution_count": 23,
   "metadata": {},
   "outputs": [
    {
     "data": {
      "image/png": "[encoded data removed]",
      "text/plain": [
       "<Figure size 1152x720 with 1 Axes>"
      ]
     },
     "metadata": {},
     "output_type": "display_data"
    },
    {
     "data": {
      "text/plain": [
       "<Figure size 432x288 with 0 Axes>"
      ]
     },
     "metadata": {},
     "output_type": "display_data"
    }
   ],
   "source": [
    "import matplotlib.pyplot as plt\n",
    "import seaborn as sns\n",
    "\n",
    "sns.set(style=\"whitegrid\")\n",
    "\n",
    "plt.figure(figsize=(16, 10))\n",
    "ax = sns.barplot(x='Meta-Learner', y='EMSE', hue='Model', data=emse_df, palette=\"muted\")\n",
    "plt.title('Comparison of EMSE for Different Meta-Learners and Models')\n",
    "plt.xlabel('Meta-Learner')\n",
    "plt.ylabel('Expected Mean Squared Error (EMSE)')\n",
    "plt.legend(title='Model')\n",
    "plt.yscale('log')\n",
    "\n",
    "# Adding the numbers on top of the bars\n",
    "for p in ax.patches:\n",
    "    ax.annotate(f'{p.get_height():.2f}', \n",
    "                (p.get_x() + p.get_width() / 2., p.get_height()), \n",
    "                ha='center', va='center', \n",
    "                xytext=(0, 10), \n",
    "                textcoords='offset points')\n",
    "\n",
    "plt.show()\n",
    "plt.savefig(\"Model_Evaluation_using_GridSearch.png\", dpi=300)\n",
    "\n"
   ]
  },
  {
   "cell_type": "code",
   "execution_count": null,
   "metadata": {},
   "outputs": [],
   "source": []
  }
 ],
 "metadata": {
  "kernelspec": {
   "display_name": "Python 3",
   "language": "python",
   "name": "python3"
  },
  "language_info": {
   "codemirror_mode": {
    "name": "ipython",
    "version": 3
   },
   "file_extension": ".py",
   "mimetype": "text/x-python",
   "name": "python",
   "nbconvert_exporter": "python",
   "pygments_lexer": "ipython3",
   "version": "3.8.8"
  }
 },
 "nbformat": 4,
 "nbformat_minor": 1
}
