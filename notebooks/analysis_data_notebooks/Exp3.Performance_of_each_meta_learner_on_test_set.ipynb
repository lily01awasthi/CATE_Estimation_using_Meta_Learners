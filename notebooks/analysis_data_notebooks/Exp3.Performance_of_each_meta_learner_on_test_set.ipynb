{
 "cells": [
  {
   "cell_type": "markdown",
   "metadata": {},
   "source": [
    "# Analysis of Meta-Learners for Causal Inference\n",
    "\n",
    "This  Notebook documents the workflow for analyzing the performance of various meta-learners in estimating Conditional Average Treatment Effects (CATE) using analysis dataset. The notebook includes data preprocessing, model training, prediction, evaluation, and result visualization.\n",
    "\n",
    "## Table of Contents\n",
    "1. [Loading and Preprocessing Data](#loading-and-preprocessing-data)\n",
    "2. [Training and Predicting with Meta-Learners](#training-and-predicting-with-meta-learners)\n",
    "3. [Saving CATE Estimates](#saving-cate-estimates)\n",
    "4. [Evaluating Meta-Learners](#evaluating-meta-learners)\n",
    "5. [Visualizing RMSE of Meta-Learners](#visualizing-rmse-of-meta-learners)\n",
    "6. [Bootstrap EMSE Calculation](#bootstrap-emse-calculation)"
   ]
  },
  {
   "cell_type": "markdown",
   "metadata": {},
   "source": [
    "## Loading and Preprocessing Data\n",
    "\n",
    "loading the necessary preprocessing scripts and training classes designed for analyzing the data."
   ]
  },
  {
   "cell_type": "code",
   "execution_count": 2,
   "metadata": {},
   "outputs": [],
   "source": [
    "# load required preprocessing scripts and training classes designed for analysis data\n",
    "from scripts.analysis_data_scripts.data_preprocessor import load_data, preprocessor\n",
    "from scripts.analysis_data_scripts.train_models import TrainAndPredict"
   ]
  },
  {
   "cell_type": "markdown",
   "metadata": {},
   "source": [
    "load and preprocess the data using the `data_preprocessor` script to get the training and testing data."
   ]
  },
  {
   "cell_type": "code",
   "execution_count": null,
   "metadata": {},
   "outputs": [
    {
     "name": "stdout",
     "output_type": "stream",
     "text": [
      "Data preprocessing...\n",
      "Preprocessing done!\n"
     ]
    }
   ],
   "source": [
    "# load and preprocess the data using the data_preprocessor script to get the training and testing data\n",
    "df = load_data('../../data/analysis_data/dataset.csv')\n",
    "print(\"Data preprocessing...\")\n",
    "X_train, y_train, treatment_train, X_test, y_test, treatment_test = preprocessor(df)\n",
    "print(\"Preprocessing done!\")"
   ]
  },
  {
   "cell_type": "markdown",
   "metadata": {},
   "source": [
    "## Training and Predicting with Meta-Learners\n",
    "instantiate the `TrainAndPredict` class with the preprocessed data and collect predictions for the outcome variable given by each meta-learner using the `train_and_predict` method."
   ]
  },
  {
   "cell_type": "code",
   "execution_count": null,
   "metadata": {},
   "outputs": [],
   "source": [
    "# Instantiate TrainAndPredict class with preprocessed data\n",
    "train_predictor = TrainAndPredict(X_train, y_train, treatment_train, X_test,treatment_test)\n",
    "\n",
    "# collect the predictions for outcome variable given by each meta_learner using the train_and_predict method\n",
    "s_predictions, t_predictions, x_predictions, r_predictions = train_predictor.train_and_predict()\n",
    "\n",
    "# get the cate estimates for each meta_learner using the get_cate_estimates method from analysis_data_scripts\n",
    "s_estimates, t_estimates, x_estimates, r_estimates = train_predictor.get_cate_estimates(s_predictions, t_predictions, x_predictions, r_predictions)\n"
   ]
  },
  {
   "cell_type": "markdown",
   "metadata": {},
   "source": [
    "## Saving CATE Estimates\n",
    "The CATE estimates for each meta-learner are saved to CSV files for further analysis."
   ]
  },
  {
   "cell_type": "code",
   "execution_count": null,
   "metadata": {},
   "outputs": [
    {
     "name": "stdout",
     "output_type": "stream",
     "text": [
      "s_predictions:      pred_treated  pred_control\n",
      "0         0.629880      0.627127\n",
      "1        -0.237506     -0.236265\n",
      "2         1.351146      1.350828\n",
      "3         1.291522      1.292459\n",
      "4        -0.187408     -0.187421\n",
      "...            ...           ...\n",
      "2074     -0.344813     -0.345480\n",
      "2075      0.594295      0.593950\n",
      "2076     -0.599323     -0.599506\n",
      "2077     -0.781965     -0.782701\n",
      "2078     -0.641935     -0.642964\n",
      "\n",
      "[2079 rows x 2 columns]\n",
      "t_predictions:      pred_treated  pred_control\n",
      "0         0.708611      0.639899\n",
      "1        -0.195640     -0.163077\n",
      "2         1.262174      1.250115\n",
      "3         1.262174      1.250115\n",
      "4        -0.195640     -0.163077\n",
      "...            ...           ...\n",
      "2074     -0.381721     -0.396255\n",
      "2075      0.691974      0.639899\n",
      "2076     -0.655089     -0.661279\n",
      "2077     -0.698846     -0.699909\n",
      "2078     -0.655089     -0.661279\n",
      "\n",
      "[2079 rows x 2 columns]\n",
      "x_predictions:      pred_treated  pred_control  cate_estimates\n",
      "0         0.708611      0.639899       -0.027649\n",
      "1        -0.195640     -0.163077       -0.015639\n",
      "2         1.262174      1.250115        0.004329\n",
      "3         1.262174      1.250115        0.003990\n",
      "4        -0.195640     -0.163077        0.003990\n",
      "...            ...           ...             ...\n",
      "2074     -0.381721     -0.396255        0.003990\n",
      "2075      0.691974      0.639899       -0.023707\n",
      "2076     -0.655089     -0.661279       -0.018602\n",
      "2077     -0.698846     -0.699909       -0.030144\n",
      "2078     -0.655089     -0.661279        0.003990\n",
      "\n",
      "[2079 rows x 3 columns]\n",
      "r_predictions:      tau_pred\n",
      "0     0.128346\n",
      "1    -0.288853\n",
      "2     0.333197\n",
      "3     0.206435\n",
      "4     0.108694\n",
      "...        ...\n",
      "2074 -0.401712\n",
      "2075  0.087028\n",
      "2076 -0.277494\n",
      "2077 -0.041765\n",
      "2078 -0.102050\n",
      "\n",
      "[2079 rows x 1 columns]\n"
     ]
    }
   ],
   "source": [
    "# Save the CATE estimates to a CSV file\n",
    "s_output_path = '../../results/analysis_data_results/test_data/s_predictions.csv'\n",
    "t_output_path = '../../results/analysis_data_results/test_data/t_predictions.csv'\n",
    "x_output_path = '../../results/analysis_data_results/test_data/x_predictions.csv'\n",
    "r_output_path = '../../results/analysis_data_results/test_data/r_predictions.csv'\n",
    "\n",
    "s_estimates.to_csv(s_output_path, index=False)\n",
    "t_estimates.to_csv(t_output_path, index=False)\n",
    "x_estimates.to_csv(x_output_path, index=False)\n",
    "r_estimates.to_csv(r_output_path, index=False)"
   ]
  },
  {
   "cell_type": "markdown",
   "metadata": {},
   "source": [
    "## Evaluating Meta-Learners\n",
    "evaluate the performance of the meta-learners using the `evaluate_meta_learner` method from the analysis data scripts. This function compares the predicted outcomes with actual outcomes and returns metrics such as RMSE, bias, and variance.\n"
   ]
  },
  {
   "cell_type": "code",
   "execution_count": null,
   "metadata": {},
   "outputs": [],
   "source": [
    "# Evaluate the performance of the meta_learners using the evaluate_meta_learner method from analysis_data_scripts\n",
    "from scripts.analysis_data_scripts.evaluate_models import evaluate_meta_learner"
   ]
  },
  {
   "cell_type": "markdown",
   "metadata": {},
   "source": [
    "The evaluation metrics for each meta-learner are calculated and printed.\n"
   ]
  },
  {
   "cell_type": "code",
   "execution_count": 8,
   "metadata": {},
   "outputs": [
    {
     "name": "stdout",
     "output_type": "stream",
     "text": [
      "S-Learner evaluation metrics: {'S-Learner_RMSE': 1.168396285627171, 'S-Learner_Bias': 0.1284884150904221, 'S-Learner_Variance': 0.9497100609666357}\n",
      "T-Learner evaluation metrics: {'T-Learner_RMSE': 1.1708287511276365, 'T-Learner_Bias': 0.13188101535414684, 'T-Learner_Variance': 0.9540661051944127}\n",
      "X-Learner evaluation metrics: {'X-Learner_RMSE': 1.1708287511276365, 'X-Learner_Bias': 0.13188101535414684, 'X-Learner_Variance': 0.9540661051944127}\n"
     ]
    }
   ],
   "source": [
    "# Extract true outcomes for RMSE calculation\n",
    "true_outcomes = y_test\n",
    "\n",
    "results = {}\n",
    "\n",
    "# Calculate RMSE for S-Learner\n",
    "s_metrics = evaluate_meta_learner(s_predictions, y_test, treatment_test, 'S-Learner')\n",
    "print(\"S-Learner evaluation metrics:\", s_metrics)\n",
    "\n",
    "# Calculate RMSE for T-Learner\n",
    "t_metrics = evaluate_meta_learner(t_predictions, y_test, treatment_test, 'T-Learner')\n",
    "print(\"T-Learner evaluation metrics:\", t_metrics)\n",
    "\n",
    "# Calculate RMSE for X-Learner\n",
    "x_metrics = evaluate_meta_learner(x_predictions, y_test, treatment_test, 'X-Learner')\n",
    "print(\"X-Learner evaluation metrics:\", x_metrics)"
   ]
  },
  {
   "cell_type": "markdown",
   "metadata": {},
   "source": [
    "Above metrics represent evaluation metrics for three different meta-learners: S-Learner, T-Learner, and X-Learner. These metrics include RMSE (Root Mean Squared Error), Bias, and Variance. These results show that:\n",
    "\n",
    "### Insights:\n",
    "- **S-Learner** has the lowest RMSE, indicating it has the best predictive accuracy among the three.\n",
    "- **S-Learner** also has the lowest bias, suggesting it is the most accurate in terms of average prediction error.\n",
    "- **S-Learner** has the lowest variance, indicating it is the most consistent in its predictions.\n",
    "\n",
    "In summary, based on these metrics, the S-Learner appears to perform slightly better than the T-Learner and X-Learner in terms of predictive accuracy, bias, and variance."
   ]
  },
  {
   "cell_type": "markdown",
   "metadata": {},
   "source": [
    "## Visualizing RMSE of Meta-Learners\n",
    "\n",
    "visualize the RMSE values of the meta-learners on the test set using a bar plot."
   ]
  },
  {
   "cell_type": "code",
   "execution_count": 6,
   "metadata": {},
   "outputs": [
    {
     "data": {
      "image/png": "[encoded data removed]",
      "text/plain": [
       "<Figure size 1000x600 with 1 Axes>"
      ]
     },
     "metadata": {},
     "output_type": "display_data"
    }
   ],
   "source": [
    "import matplotlib.pyplot as plt\n",
    "\n",
    "# fetch the RMSE values from the evaluation results\n",
    "s_rmse = s_metrics['S-Learner_RMSE']\n",
    "t_rmse = t_metrics['T-Learner_RMSE']\n",
    "x_rmse = x_metrics['X-Learner_RMSE']\n",
    "\n",
    "# RMSE values for each meta-learner with more decimal precision\n",
    "rmse_values = [s_rmse, t_rmse, x_rmse]\n",
    "learners = ['S-Learner', 'T-Learner', 'X-Learner']\n",
    "\n",
    "# Plotting the RMSE values\n",
    "plt.figure(figsize=(10, 6))\n",
    "plt.bar(learners, rmse_values, color=['skyblue', 'salmon', 'lightgreen', 'orange'])\n",
    "plt.ylabel('RMSE')\n",
    "plt.xlabel('Meta-Learner')\n",
    "plt.title('RMSE of Meta-Learners on Test Set')\n",
    "plt.ylim(0, max(rmse_values) * 1.1)  # Add some space above the highest bar for readability\n",
    "# Annotate the bars with RMSE values with higher precision\n",
    "for i, v in enumerate(rmse_values):\n",
    "    plt.text(i, v + 0.02, f\"{v:.7f}\", ha='center', va='bottom', fontsize=12)\n",
    "\n",
    "plt.show()\n"
   ]
  },
  {
   "cell_type": "markdown",
   "metadata": {},
   "source": [
    "## Bootstrap EMSE Calculation\n",
    "calculate the variance of estimated CATE given by each meta-learner using the `bootstrap_emse_no_groundtruth` method.\n"
   ]
  },
  {
   "cell_type": "code",
   "execution_count": 7,
   "metadata": {},
   "outputs": [
    {
     "name": "stdout",
     "output_type": "stream",
     "text": [
      "s_emse:0.00015001302841996403\n",
      "t_emse:0.0003859706755926306\n",
      "x_emse:0.9497884984294933\n",
      "r_emse:2.0372812556573402e-05\n"
     ]
    }
   ],
   "source": [
    "from scripts.analysis_data_scripts.evaluate_models import bootstrap_emse_no_groundtruth\n",
    "from models.Meta_Learners.meta_learner_models import S_learner_model, T_learner_model, X_learner_model, R_learner_model\n",
    "\n",
    "# calculate varianle of eastimated cate given by each meta learner\n",
    "s_emse = bootstrap_emse_no_groundtruth(X_train, treatment_train, S_learner_model, 'S-Learner')\n",
    "print(f\"s_emse:{s_emse}\")\n",
    "\n",
    "t_emse = bootstrap_emse_no_groundtruth(X_train, treatment_train, T_learner_model, 'T-Learner')\n",
    "print(f\"t_emse:{t_emse}\")\n",
    "\n",
    "x_emse = bootstrap_emse_no_groundtruth(X_train, treatment_train, X_learner_model, 'X-Learner')\n",
    "print(f\"x_emse:{x_emse}\")\n",
    "\n",
    "r_emse = bootstrap_emse_no_groundtruth(X_train, treatment_train, R_learner_model, 'R-Learner')\n",
    "print(f\"r_emse:{r_emse}\")"
   ]
  },
  {
   "cell_type": "markdown",
   "metadata": {},
   "source": [
    "The results of the bootstrap EMSE calculation represent the variance in estimated CATE values across bootstrap samples for each meta-learner. The EMSE values for the meta-learners are as follows:\n",
    "\n",
    "- **S-Learner EMSE**: 0.00015001302841996403\n",
    "- **T-Learner EMSE**: 0.0003859706755926306\n",
    "- **X-Learner EMSE**: 0.9497884984294933\n",
    "- **R-Learner EMSE**: 2.0372812556573402e-05\n",
    "\n",
    "These values indicate the variability in the CATE estimates produced by each meta-learner when subjected to bootstrap sampling. Lower EMSE values suggest more stable and consistent CATE estimates."
   ]
  }
 ],
 "metadata": {
  "kernelspec": {
   "display_name": "venv",
   "language": "python",
   "name": "python3"
  },
  "language_info": {
   "codemirror_mode": {
    "name": "ipython",
    "version": 3
   },
   "file_extension": ".py",
   "mimetype": "text/x-python",
   "name": "python",
   "nbconvert_exporter": "python",
   "pygments_lexer": "ipython3",
   "version": "3.8.8"
  }
 },
 "nbformat": 4,
 "nbformat_minor": 2
}
