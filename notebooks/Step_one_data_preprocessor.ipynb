{
 "cells": [
  {
   "cell_type": "code",
   "execution_count": 1,
   "metadata": {},
   "outputs": [],
   "source": [
    "import pandas as pd\n",
    "from sklearn.preprocessing import StandardScaler, OneHotEncoder\n",
    "from sklearn.compose import ColumnTransformer\n",
    "from sklearn.model_selection import  train_test_split"
   ]
  },
  {
   "cell_type": "code",
   "execution_count": 2,
   "metadata": {},
   "outputs": [],
   "source": [
    "def rename_columns(df):\n",
    "    # Rename columns for clarity\n",
    "    dataset = dataset.rename(columns={\n",
    "        'Y': 'StudentAchievementScore',\n",
    "        'Z': 'GrowthMindsetIntervention',\n",
    "        'S3': 'FutureSuccessExpectations',\n",
    "        'C1': 'StudentRaceEthnicity',\n",
    "        'C2': 'StudentGender',\n",
    "        'C3': 'FirstGenCollegeStatus',\n",
    "        'XC': 'SchoolUrbanicity',\n",
    "        'X1': 'PreInterventionFixedMindset',\n",
    "        'X2': 'SchoolAchievementLevel',\n",
    "        'X3': 'SchoolMinorityComposition',\n",
    "        'X4': 'PovertyConcentration',\n",
    "        'X5': 'TotalStudentPopulation'\n",
    "    })\n",
    "    return dataset"
   ]
  },
  {
   "cell_type": "code",
   "execution_count": 3,
   "metadata": {},
   "outputs": [],
   "source": [
    "def treatment_outcome_and_control():\n",
    "    # Define covariates, treatment, and outcome\n",
    "    covariate_cols = ['FutureSuccessExpectations', 'StudentRaceEthnicity', 'StudentGender', 'FirstGenCollegeStatus', \n",
    "                    'SchoolUrbanicity', 'PreInterventionFixedMindset', 'SchoolAchievementLevel', \n",
    "                    'SchoolMinorityComposition', 'PovertyConcentration', 'TotalStudentPopulation']\n",
    "    treatment_col = 'GrowthMindsetIntervention'\n",
    "    outcome_col = 'StudentAchievementScore'\n",
    "    return covariate_cols, treatment_col, outcome_col"
   ]
  },
  {
   "cell_type": "code",
   "execution_count": 4,
   "metadata": {},
   "outputs": [],
   "source": [
    "def split_train_test_data(dataset, treatment_col):\n",
    "    # Split data into training and testing sets (with stratification on treatment variable)\n",
    "    train_data, test_data = train_test_split(dataset, test_size=0.2, random_state=42, stratify=dataset[treatment_col])\n",
    "    return train_data, test_data"
   ]
  },
  {
   "cell_type": "code",
   "execution_count": 5,
   "metadata": {},
   "outputs": [],
   "source": [
    "def staderize_categorical_and_numerical_features():\n",
    "    # Preprocessing: Standardize continuous variables and one-hot encode categorical variables\n",
    "    continuous_cols = ['PreInterventionFixedMindset', 'SchoolAchievementLevel', 'SchoolMinorityComposition', \n",
    "                    'PovertyConcentration', 'TotalStudentPopulation']\n",
    "\n",
    "    categorical_cols = ['StudentRaceEthnicity', 'StudentGender', 'FirstGenCollegeStatus', 'SchoolUrbanicity']\n",
    "\n",
    "    preprocessor = ColumnTransformer(\n",
    "        transformers=[\n",
    "            ('num', StandardScaler(), continuous_cols),\n",
    "            ('cat', OneHotEncoder(), categorical_cols)\n",
    "        ]\n",
    "    )    \n",
    "    return preprocessor"
   ]
  },
  {
   "cell_type": "code",
   "execution_count": 6,
   "metadata": {},
   "outputs": [],
   "source": [
    "def preprocessor():\n",
    "    # Load  data\n",
    "    dataset = pd.read_csv('../data/dataset.csv')\n",
    "\n",
    "    dataset = rename_columns(dataset)\n",
    "\n",
    "    covariate_cols, treatment_col, outcome_col = treatment_outcome_and_control()\n",
    "\n",
    "    # Split data into training and testing sets (with stratification on treatment variable)\n",
    "    # since the distribution of data across treated and control population is imbalanced\n",
    "    train_data, test_data = split_train_test_data(dataset,treatment_col)\n",
    "\n",
    "    preprocessor = staderize_categorical_and_numerical_features()\n",
    "\n",
    "    # 6. Fit and transform the training data (covariates only)\n",
    "    X_train_processed = preprocessor.fit_transform(train_data[covariate_cols])\n",
    "    y_train = train_data[outcome_col].values\n",
    "    treatment_train = train_data[treatment_col].values\n",
    "\n",
    "    return X_train_processed, y_train, treatment_train, test_data"
   ]
  },
  {
   "cell_type": "markdown",
   "metadata": {},
   "source": [
    "* Renamed the columns \n",
    "* Defined covariate tretment and outcome column\n",
    "* Spit train and test dataset into 80/20 %\n",
    "* standarizes the contineous columns and onehotencoded the categorical columns \n"
   ]
  },
  {
   "cell_type": "markdown",
   "metadata": {},
   "source": []
  }
 ],
 "metadata": {
  "kernelspec": {
   "display_name": "venv",
   "language": "python",
   "name": "python3"
  },
  "language_info": {
   "codemirror_mode": {
    "name": "ipython",
    "version": 3
   },
   "file_extension": ".py",
   "mimetype": "text/x-python",
   "name": "python",
   "nbconvert_exporter": "python",
   "pygments_lexer": "ipython3",
   "version": "3.8.8"
  }
 },
 "nbformat": 4,
 "nbformat_minor": 2
}
